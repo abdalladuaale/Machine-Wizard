{
 "cells": [
  {
   "cell_type": "markdown",
   "metadata": {},
   "source": [
    "<center> <h1> Text Analytics Decision Support System </h1> </center>\n",
    "<center> <h2>  Bag of Words Method</h2> </center>\n",
    "\n",
    "<a id=\"Introduction\"></a>\n",
    "# Introduction\n",
    "-   Text Analytics Decision Support System using Bag of Words Method\n",
    "\n",
    "\n",
    "<a id=\"task\"></a>\n",
    "### Task\n",
    "    Learn Input-Ouput Function\n",
    "    Given a text as an input and predict sentiment label(output)\n",
    "    \n",
    "<a id=\"goal\"></a>    \n",
    "### Goal:\n",
    "    To learn from input to predict output\n",
    "\n",
    "<a id=\"input-output\"></a>\n",
    "### Input-Output: \n",
    "#### Input: \n",
    "    Comment (text only) \n",
    "#### Output:\n",
    "    Label of the text \n",
    "        1. Positive (1)\n",
    "        3. Negative (-1)\n",
    "    \n",
    "<a id=\"phases\"></a>\n",
    "# Phases of Machine Learning:\n",
    "\n",
    "**Training:**\n",
    "- Learning phase.\n",
    "   - Subset of data (Train data) is used to train model.\n",
    "   \n",
    "**Testing:**\n",
    "- Subset of data is used to evaluate\\test trained model.\n",
    "\n",
    "**Application:**\n",
    "- Learned \\Trained model is used in real world applications.\n",
    "    - Predictions are made on the real world data. \n"
   ]
  },
  {
   "cell_type": "markdown",
   "metadata": {},
   "source": [
    "<a id=\"stepbystep\"></a>\n",
    "# Step by step Implementation:"
   ]
  },
  {
   "cell_type": "markdown",
   "metadata": {},
   "source": [
    "<a id=\"step-1\"></a>\n",
    "## Import the required libraries"
   ]
  },
  {
   "cell_type": "code",
   "execution_count": 1,
   "metadata": {},
   "outputs": [],
   "source": [
    "import re\n",
    "import string\n",
    "import scipy\n",
    "import pickle\n",
    "import os,glob\n",
    "import pandas as pd\n",
    "import numpy as np\n",
    "import seaborn as sns\n",
    "import warnings \n",
    "from nltk.corpus import stopwords\n",
    "from nltk.tokenize import word_tokenize\n",
    "\n",
    "from sklearn.feature_extraction.text import *\n",
    "from sklearn.preprocessing import LabelEncoder\n",
    "\n",
    "from sklearn.feature_extraction.text import CountVectorizer\n",
    "from sklearn.feature_extraction.text import TfidfVectorizer\n",
    "\n",
    "\n",
    "from sklearn.linear_model import LogisticRegression\n",
    "from sklearn.naive_bayes import BernoulliNB\n",
    "from sklearn.ensemble import RandomForestClassifier\n",
    "from sklearn.svm import LinearSVC\n",
    "from sklearn.neural_network import MLPClassifier\n",
    "\n",
    "from sklearn.metrics import accuracy_score\n",
    "from sklearn.metrics import precision_score\n",
    "from sklearn.metrics import recall_score\n",
    "from sklearn.metrics import f1_score\n",
    "from sklearn.metrics import classification_report\n",
    "\n",
    "\n",
    "import matplotlib.pyplot as plt\n",
    "from prettytable import PrettyTable\n",
    "from joblib import dump, load\n",
    "from astropy.table import Table, Column\n",
    "from sklearn.utils import shuffle\n",
    "\n",
    "warnings.filterwarnings(\"ignore\")"
   ]
  },
  {
   "cell_type": "markdown",
   "metadata": {},
   "source": [
    "# Read & Understand Data"
   ]
  },
  {
   "cell_type": "markdown",
   "metadata": {},
   "source": [
    "CSV files are normally created by programs that handle large amounts of data. They are a convenient way to export data from spreadsheets and databases as well as import or use it in other programs. For example, you might export the results of a data mining program to a CSV file and then import that into a spreadsheet to analyze the data, generate graphs for a presentation, or prepare a report for publication. \n",
    "\n",
    "CSV files are very easy to work with programmatically. Any language that supports text file input and string manipulation (like Python) can work with CSV files directly."
   ]
  },
  {
   "cell_type": "markdown",
   "metadata": {},
   "source": [
    "### Read Training Data"
   ]
  },
  {
   "cell_type": "code",
   "execution_count": 2,
   "metadata": {},
   "outputs": [
    {
     "name": "stdout",
     "output_type": "stream",
     "text": [
      "Training Data:\n",
      "=============\n",
      "\n"
     ]
    },
    {
     "data": {
      "text/html": [
       "<div>\n",
       "<style scoped>\n",
       "    .dataframe tbody tr th:only-of-type {\n",
       "        vertical-align: middle;\n",
       "    }\n",
       "\n",
       "    .dataframe tbody tr th {\n",
       "        vertical-align: top;\n",
       "    }\n",
       "\n",
       "    .dataframe thead th {\n",
       "        text-align: right;\n",
       "    }\n",
       "</style>\n",
       "<table border=\"1\" class=\"dataframe\">\n",
       "  <thead>\n",
       "    <tr style=\"text-align: right;\">\n",
       "      <th></th>\n",
       "      <th>Text</th>\n",
       "      <th>Sentiment</th>\n",
       "    </tr>\n",
       "  </thead>\n",
       "  <tbody>\n",
       "    <tr>\n",
       "      <th>0</th>\n",
       "      <td>Kickers on my watchlist XIDE TIT SOQ PNK CPW B...</td>\n",
       "      <td>1</td>\n",
       "    </tr>\n",
       "    <tr>\n",
       "      <th>1</th>\n",
       "      <td>user: AAP MOVIE. 55% return for the FEA/GEED i...</td>\n",
       "      <td>1</td>\n",
       "    </tr>\n",
       "    <tr>\n",
       "      <th>2</th>\n",
       "      <td>user I'd be afraid to short AMZN - they are lo...</td>\n",
       "      <td>1</td>\n",
       "    </tr>\n",
       "    <tr>\n",
       "      <th>3</th>\n",
       "      <td>MNTA Over 12.00</td>\n",
       "      <td>1</td>\n",
       "    </tr>\n",
       "    <tr>\n",
       "      <th>4</th>\n",
       "      <td>OI  Over 21.37</td>\n",
       "      <td>1</td>\n",
       "    </tr>\n",
       "  </tbody>\n",
       "</table>\n",
       "</div>"
      ],
      "text/plain": [
       "                                                Text  Sentiment\n",
       "0  Kickers on my watchlist XIDE TIT SOQ PNK CPW B...          1\n",
       "1  user: AAP MOVIE. 55% return for the FEA/GEED i...          1\n",
       "2  user I'd be afraid to short AMZN - they are lo...          1\n",
       "3                                  MNTA Over 12.00            1\n",
       "4                                   OI  Over 21.37            1"
      ]
     },
     "execution_count": 2,
     "metadata": {},
     "output_type": "execute_result"
    }
   ],
   "source": [
    "''' \n",
    "    /*-------------------- LOAD_TRAINING_DATA ----------------\n",
    "    | Function  : read_csv()\n",
    "    | Purpose   : Read a Dataset in CSV file Format \n",
    "    | Arguments : \n",
    "    |       path    : Path to dataset file\n",
    "    |       dataset : Dataset file name\n",
    "    | Return    :\n",
    "    |       dataset : Dataset in DataFrame Format\n",
    "    *---------------------------------------------------------*/\n",
    "'''\n",
    "\n",
    "# Read the Data in CSV Format\n",
    "training_data = pd.read_csv('stock_data.csv')\n",
    "training_data = pd.DataFrame(training_data)\n",
    "#Load the Training Data\n",
    "print(\"Training Data:\")\n",
    "print(\"=============\\n\")\n",
    "training_data.head()"
   ]
  },
  {
   "cell_type": "markdown",
   "metadata": {},
   "source": [
    "### Understand Training Data"
   ]
  },
  {
   "cell_type": "code",
   "execution_count": 3,
   "metadata": {},
   "outputs": [
    {
     "name": "stdout",
     "output_type": "stream",
     "text": [
      "\n",
      "\n",
      "Attributes Names in Train Dataset:\n",
      "==================================\n",
      "\n",
      "Index(['Text', 'Sentiment'], dtype='object')\n",
      "\n",
      "\n",
      "Number of instances in Train Dataset:\n",
      "====================================\n",
      "\n",
      "Total Train Data instances: 5791\n"
     ]
    }
   ],
   "source": [
    "print(\"\\n\\nAttributes Names in Train Dataset:\")\n",
    "print(\"==================================\\n\")\n",
    "\n",
    "print(training_data.columns)\n",
    "\n",
    "print(\"\\n\\nNumber of instances in Train Dataset:\")\n",
    "print(\"====================================\\n\")\n",
    "\n",
    "total_training_data_instances= len(training_data.index)\n",
    "print(\"Total Train Data instances:\",total_training_data_instances)"
   ]
  },
  {
   "cell_type": "code",
   "execution_count": 4,
   "metadata": {},
   "outputs": [
    {
     "data": {
      "text/html": [
       "<div>\n",
       "<style scoped>\n",
       "    .dataframe tbody tr th:only-of-type {\n",
       "        vertical-align: middle;\n",
       "    }\n",
       "\n",
       "    .dataframe tbody tr th {\n",
       "        vertical-align: top;\n",
       "    }\n",
       "\n",
       "    .dataframe thead th {\n",
       "        text-align: right;\n",
       "    }\n",
       "</style>\n",
       "<table border=\"1\" class=\"dataframe\">\n",
       "  <thead>\n",
       "    <tr style=\"text-align: right;\">\n",
       "      <th></th>\n",
       "      <th>Sentiment</th>\n",
       "    </tr>\n",
       "  </thead>\n",
       "  <tbody>\n",
       "    <tr>\n",
       "      <th>count</th>\n",
       "      <td>5791.000000</td>\n",
       "    </tr>\n",
       "    <tr>\n",
       "      <th>mean</th>\n",
       "      <td>0.272664</td>\n",
       "    </tr>\n",
       "    <tr>\n",
       "      <th>std</th>\n",
       "      <td>0.962192</td>\n",
       "    </tr>\n",
       "    <tr>\n",
       "      <th>min</th>\n",
       "      <td>-1.000000</td>\n",
       "    </tr>\n",
       "    <tr>\n",
       "      <th>25%</th>\n",
       "      <td>-1.000000</td>\n",
       "    </tr>\n",
       "    <tr>\n",
       "      <th>50%</th>\n",
       "      <td>1.000000</td>\n",
       "    </tr>\n",
       "    <tr>\n",
       "      <th>75%</th>\n",
       "      <td>1.000000</td>\n",
       "    </tr>\n",
       "    <tr>\n",
       "      <th>max</th>\n",
       "      <td>1.000000</td>\n",
       "    </tr>\n",
       "  </tbody>\n",
       "</table>\n",
       "</div>"
      ],
      "text/plain": [
       "         Sentiment\n",
       "count  5791.000000\n",
       "mean      0.272664\n",
       "std       0.962192\n",
       "min      -1.000000\n",
       "25%      -1.000000\n",
       "50%       1.000000\n",
       "75%       1.000000\n",
       "max       1.000000"
      ]
     },
     "execution_count": 4,
     "metadata": {},
     "output_type": "execute_result"
    }
   ],
   "source": [
    "training_data.describe()"
   ]
  },
  {
   "cell_type": "code",
   "execution_count": 5,
   "metadata": {},
   "outputs": [
    {
     "name": "stdout",
     "output_type": "stream",
     "text": [
      "\n",
      "Number of instances and Classes in Training Dataset:\n",
      "======================================================\n",
      "\n"
     ]
    },
    {
     "data": {
      "image/png": "[encoded data removed]",
      "text/plain": [
       "<Figure size 2500x1000 with 1 Axes>"
      ]
     },
     "metadata": {},
     "output_type": "display_data"
    }
   ],
   "source": [
    "print(\"\\nNumber of instances and Classes in Training Dataset:\")\n",
    "print(\"======================================================\\n\")\n",
    "# Set the figure size\n",
    "plt.figure(figsize=(25, 10))\n",
    "\n",
    "sns.countplot(training_data[\"Sentiment\"])\n",
    "\n",
    "# Display the plot\n",
    "plt.show()"
   ]
  },
  {
   "cell_type": "markdown",
   "metadata": {},
   "source": [
    "# Text Preprocessing"
   ]
  },
  {
   "cell_type": "markdown",
   "metadata": {},
   "source": [
    "Natural Language Processing (NLP) is a branch of Data Science which deals with Text data. Apart from numerical data, Text data is available to a great extent which is used to analyze and solve business problems. But before using the data for analysis or prediction, processing the data is important.\n",
    "\n",
    "To prepare the text data for the model building we perform text preprocessing. It is the very first step of NLP projects. Some of the preprocessing steps are:\n",
    "\n",
    "    Removal of duplicate data\n",
    "    Removal of irrelevant data\n",
    "    Removing punctuations \n",
    "    Removing URLs\n",
    "    Removing Stop words\n",
    "    Conversion to lowercase\n",
    "    Remove Hash Tages\n",
    "    Replace Emojis\n",
    "    Lower casing\n",
    "    Tokenization\n",
    "    Stemming\n",
    "    Lemmatization\n",
    "\n",
    "RegEx was used for data preprocessing, A RegEx, or Regular Expression, is a sequence of characters that forms a search pattern. RegEx can be used to check if a string contains the specified search pattern."
   ]
  },
  {
   "cell_type": "code",
   "execution_count": 6,
   "metadata": {},
   "outputs": [
    {
     "name": "stderr",
     "output_type": "stream",
     "text": [
      "[nltk_data] Downloading package stopwords to\n",
      "[nltk_data]     C:\\Users\\ty\\AppData\\Roaming\\nltk_data...\n",
      "[nltk_data]   Package stopwords is already up-to-date!\n",
      "[nltk_data] Downloading package punkt to\n",
      "[nltk_data]     C:\\Users\\ty\\AppData\\Roaming\\nltk_data...\n",
      "[nltk_data]   Package punkt is already up-to-date!\n"
     ]
    },
    {
     "data": {
      "text/plain": [
       "True"
      ]
     },
     "execution_count": 6,
     "metadata": {},
     "output_type": "execute_result"
    }
   ],
   "source": [
    "import nltk\n",
    "nltk.download('stopwords')\n",
    "nltk.download('punkt')"
   ]
  },
  {
   "cell_type": "code",
   "execution_count": 7,
   "metadata": {},
   "outputs": [],
   "source": [
    "\n",
    "''' \n",
    "    /*------------------------PRE-PROCESSING-TESTING-DATA -------------\n",
    "    | Function  : lower() & re.sub()\n",
    "    | Purpose   : Perform following preprocessing:\n",
    "    |              • Lower case\n",
    "    |              • Remove Punctuation marks\n",
    "    |              • Stopwords Removal\n",
    "    | Arguments : \n",
    "    |       text: Text to be pre-processed\n",
    "    | Return    :\n",
    "    |       text: Pre-processed text\n",
    "    *-----------------------------------------------------------------*/\n",
    "'''\n",
    "\n",
    "\n",
    "def data_preprocessing(text):\n",
    "    \n",
    "    # Remove all URLs\n",
    "    text = re.sub(r'http\\S+', '', text)\n",
    "\n",
    "    # Remove all names starting with @\n",
    "    text = re.sub(r'@\\w+', '', text)\n",
    "\n",
    "    # Remove all hashtags\n",
    "    text = re.sub(r'#\\w+', '', text)\n",
    "\n",
    "    # Remove all numeric digits\n",
    "    text = re.sub(r'\\d+', '', text)\n",
    "\n",
    "    # Remove all punctuation marks\n",
    "    text = text.translate(str.maketrans('', '', string.punctuation))\n",
    "\n",
    "        # remove all non-alphabetic characters\n",
    "    text = re.sub(r'[^a-zA-Z]+', ' ', text)\n",
    "\n",
    "    # regular expression matches any string that starts with $\n",
    "    text = re.sub(r'\\$\\w+\\s*', '', text)\n",
    "\n",
    "    # regular expression matches any string that starts with Contract: 0x (Contract: 0x) \n",
    "    text = re.sub(r'Contract: 0x\\w+\\s*', '', text)\n",
    "\n",
    "    #regular expression matches one or more whitespace characters (\\s+) and replaces them with a single space (' ')\n",
    "    text = re.sub(r'\\s+', ' ', text)\n",
    "\n",
    "    # convert the text to lower case\n",
    "    text = text.lower()\n",
    "\n",
    "    # Remove all English Stopwords\n",
    "    stop_words = set(stopwords.words('english'))\n",
    "    text = ' '.join(word for word in text.split() if word.lower() not in stop_words)\n",
    "\n",
    "        \n",
    "    return text"
   ]
  },
  {
   "cell_type": "markdown",
   "metadata": {},
   "source": [
    "### Text Preprocessing of Training Data"
   ]
  },
  {
   "cell_type": "code",
   "execution_count": 8,
   "metadata": {},
   "outputs": [
    {
     "name": "stdout",
     "output_type": "stream",
     "text": [
      "\n",
      "Training Data After Pre-processing:\n",
      "====================================\n",
      "\n"
     ]
    },
    {
     "data": {
      "text/html": [
       "<div>\n",
       "<style scoped>\n",
       "    .dataframe tbody tr th:only-of-type {\n",
       "        vertical-align: middle;\n",
       "    }\n",
       "\n",
       "    .dataframe tbody tr th {\n",
       "        vertical-align: top;\n",
       "    }\n",
       "\n",
       "    .dataframe thead th {\n",
       "        text-align: right;\n",
       "    }\n",
       "</style>\n",
       "<table border=\"1\" class=\"dataframe\">\n",
       "  <thead>\n",
       "    <tr style=\"text-align: right;\">\n",
       "      <th></th>\n",
       "      <th>Text</th>\n",
       "      <th>Sentiment</th>\n",
       "    </tr>\n",
       "  </thead>\n",
       "  <tbody>\n",
       "    <tr>\n",
       "      <th>0</th>\n",
       "      <td>kickers watchlist xide tit soq pnk cpw bpz aj ...</td>\n",
       "      <td>1</td>\n",
       "    </tr>\n",
       "    <tr>\n",
       "      <th>1</th>\n",
       "      <td>user aap movie return feageed indicator trades...</td>\n",
       "      <td>1</td>\n",
       "    </tr>\n",
       "    <tr>\n",
       "      <th>2</th>\n",
       "      <td>user id afraid short amzn looking like nearmon...</td>\n",
       "      <td>1</td>\n",
       "    </tr>\n",
       "  </tbody>\n",
       "</table>\n",
       "</div>"
      ],
      "text/plain": [
       "                                                Text  Sentiment\n",
       "0  kickers watchlist xide tit soq pnk cpw bpz aj ...          1\n",
       "1  user aap movie return feageed indicator trades...          1\n",
       "2  user id afraid short amzn looking like nearmon...          1"
      ]
     },
     "execution_count": 8,
     "metadata": {},
     "output_type": "execute_result"
    }
   ],
   "source": [
    "# Apply the Preprocessing on Input Data Comments of Training Data\n",
    "training_data['Text'] = training_data['Text'].apply(data_preprocessing)\n",
    "preprocessed_training_data = training_data\n",
    "\n",
    "print(\"\\nTraining Data After Pre-processing:\")\n",
    "print(\"====================================\\n\")\n",
    "preprocessed_training_data.head(3)"
   ]
  },
  {
   "cell_type": "markdown",
   "metadata": {},
   "source": [
    "## Shape of the Training Data"
   ]
  },
  {
   "cell_type": "code",
   "execution_count": 9,
   "metadata": {},
   "outputs": [
    {
     "data": {
      "text/plain": [
       "(5791, 2)"
      ]
     },
     "execution_count": 9,
     "metadata": {},
     "output_type": "execute_result"
    }
   ],
   "source": [
    "preprocessed_training_data.shape"
   ]
  },
  {
   "cell_type": "markdown",
   "metadata": {},
   "source": [
    "## Data Analysis"
   ]
  },
  {
   "cell_type": "markdown",
   "metadata": {},
   "source": [
    "## Tokenization"
   ]
  },
  {
   "cell_type": "markdown",
   "metadata": {},
   "source": [
    "Tokenization is used in natural language processing to split paragraphs and sentences into smaller units that can be more easily assigned meaning. The first step of the NLP process is gathering the data (a sentence) and breaking it into understandable parts (words)."
   ]
  },
  {
   "cell_type": "markdown",
   "metadata": {},
   "source": [
    "### Tokenization of Training Data\n",
    "\n",
    "The tokenization of of words is performed and then the length of each word is measured."
   ]
  },
  {
   "cell_type": "code",
   "execution_count": 10,
   "metadata": {},
   "outputs": [
    {
     "name": "stdout",
     "output_type": "stream",
     "text": [
      "\n",
      "Training Data After Tokenization :\n",
      "=================================\n",
      "\n"
     ]
    },
    {
     "data": {
      "text/html": [
       "<div>\n",
       "<style scoped>\n",
       "    .dataframe tbody tr th:only-of-type {\n",
       "        vertical-align: middle;\n",
       "    }\n",
       "\n",
       "    .dataframe tbody tr th {\n",
       "        vertical-align: top;\n",
       "    }\n",
       "\n",
       "    .dataframe thead th {\n",
       "        text-align: right;\n",
       "    }\n",
       "</style>\n",
       "<table border=\"1\" class=\"dataframe\">\n",
       "  <thead>\n",
       "    <tr style=\"text-align: right;\">\n",
       "      <th></th>\n",
       "      <th>Text</th>\n",
       "      <th>Sentiment</th>\n",
       "      <th>Token_Length</th>\n",
       "    </tr>\n",
       "  </thead>\n",
       "  <tbody>\n",
       "    <tr>\n",
       "      <th>0</th>\n",
       "      <td>[kickers, watchlist, xide, tit, soq, pnk, cpw,...</td>\n",
       "      <td>1</td>\n",
       "      <td>[7, 9, 4, 3, 3, 3, 3, 3, 2, 5, 6, 6, 3, 4, 5]</td>\n",
       "    </tr>\n",
       "    <tr>\n",
       "      <th>1</th>\n",
       "      <td>[user, aap, movie, return, feageed, indicator,...</td>\n",
       "      <td>1</td>\n",
       "      <td>[4, 3, 5, 6, 7, 9, 6, 4, 7]</td>\n",
       "    </tr>\n",
       "    <tr>\n",
       "      <th>2</th>\n",
       "      <td>[user, id, afraid, short, amzn, looking, like,...</td>\n",
       "      <td>1</td>\n",
       "      <td>[4, 2, 6, 5, 4, 7, 4, 12, 6, 24]</td>\n",
       "    </tr>\n",
       "  </tbody>\n",
       "</table>\n",
       "</div>"
      ],
      "text/plain": [
       "                                                Text  Sentiment  \\\n",
       "0  [kickers, watchlist, xide, tit, soq, pnk, cpw,...          1   \n",
       "1  [user, aap, movie, return, feageed, indicator,...          1   \n",
       "2  [user, id, afraid, short, amzn, looking, like,...          1   \n",
       "\n",
       "                                    Token_Length  \n",
       "0  [7, 9, 4, 3, 3, 3, 3, 3, 2, 5, 6, 6, 3, 4, 5]  \n",
       "1                    [4, 3, 5, 6, 7, 9, 6, 4, 7]  \n",
       "2               [4, 2, 6, 5, 4, 7, 4, 12, 6, 24]  "
      ]
     },
     "execution_count": 10,
     "metadata": {},
     "output_type": "execute_result"
    }
   ],
   "source": [
    "from nltk.tokenize import word_tokenize\n",
    "#Tokenize the Training Dataset\n",
    "Tokens = preprocessed_training_data['Text'].apply(word_tokenize)\n",
    "Tokens = Tokens.to_frame()\n",
    "label_df=pd.DataFrame(preprocessed_training_data[\"Sentiment\"])\n",
    "Tokens=Tokens.join(label_df)\n",
    "Tokens['Token_Length'] = preprocessed_training_data['Text'].str.split().apply(lambda x : [len(i) for i in x])\n",
    "print(\"\\nTraining Data After Tokenization :\")\n",
    "print(\"=================================\\n\")\n",
    "Tokens.head(3)"
   ]
  },
  {
   "cell_type": "markdown",
   "metadata": {},
   "source": [
    "### More Data Analysis of Training Data\n",
    "\n",
    "#### Text Length and Word Count"
   ]
  },
  {
   "cell_type": "markdown",
   "metadata": {},
   "source": [
    "Let’s start the analysis by adding some more features to the dataset. Here, I am adding the length of the each text and the word count of each text. First, I’ll take a look at the number of characters present in each sentence. This can give us a rough idea about the text length. And further total number of words included in each sentence is also counted"
   ]
  },
  {
   "cell_type": "code",
   "execution_count": 11,
   "metadata": {},
   "outputs": [
    {
     "data": {
      "text/html": [
       "<div>\n",
       "<style scoped>\n",
       "    .dataframe tbody tr th:only-of-type {\n",
       "        vertical-align: middle;\n",
       "    }\n",
       "\n",
       "    .dataframe tbody tr th {\n",
       "        vertical-align: top;\n",
       "    }\n",
       "\n",
       "    .dataframe thead th {\n",
       "        text-align: right;\n",
       "    }\n",
       "</style>\n",
       "<table border=\"1\" class=\"dataframe\">\n",
       "  <thead>\n",
       "    <tr style=\"text-align: right;\">\n",
       "      <th></th>\n",
       "      <th>Text</th>\n",
       "      <th>Sentiment</th>\n",
       "      <th>Tweet length</th>\n",
       "      <th>word_count</th>\n",
       "    </tr>\n",
       "  </thead>\n",
       "  <tbody>\n",
       "    <tr>\n",
       "      <th>0</th>\n",
       "      <td>kickers watchlist xide tit soq pnk cpw bpz aj ...</td>\n",
       "      <td>1</td>\n",
       "      <td>80</td>\n",
       "      <td>15</td>\n",
       "    </tr>\n",
       "    <tr>\n",
       "      <th>1</th>\n",
       "      <td>user aap movie return feageed indicator trades...</td>\n",
       "      <td>1</td>\n",
       "      <td>59</td>\n",
       "      <td>9</td>\n",
       "    </tr>\n",
       "    <tr>\n",
       "      <th>2</th>\n",
       "      <td>user id afraid short amzn looking like nearmon...</td>\n",
       "      <td>1</td>\n",
       "      <td>83</td>\n",
       "      <td>10</td>\n",
       "    </tr>\n",
       "  </tbody>\n",
       "</table>\n",
       "</div>"
      ],
      "text/plain": [
       "                                                Text  Sentiment  Tweet length  \\\n",
       "0  kickers watchlist xide tit soq pnk cpw bpz aj ...          1            80   \n",
       "1  user aap movie return feageed indicator trades...          1            59   \n",
       "2  user id afraid short amzn looking like nearmon...          1            83   \n",
       "\n",
       "   word_count  \n",
       "0          15  \n",
       "1           9  \n",
       "2          10  "
      ]
     },
     "execution_count": 11,
     "metadata": {},
     "output_type": "execute_result"
    }
   ],
   "source": [
    "preprocessed_training_data['Tweet length'] = preprocessed_training_data['Text'].astype(str).apply(len)\n",
    "preprocessed_training_data['word_count'] = preprocessed_training_data['Text'].apply(lambda x: len(str(x).split()))\n",
    "preprocessed_training_data.head(3)"
   ]
  },
  {
   "cell_type": "code",
   "execution_count": 12,
   "metadata": {},
   "outputs": [
    {
     "data": {
      "image/png": "[encoded data removed]",
      "text/plain": [
       "<Figure size 640x480 with 1 Axes>"
      ]
     },
     "metadata": {},
     "output_type": "display_data"
    }
   ],
   "source": [
    "import seaborn as sns\n",
    "text_length=preprocessed_training_data['Text'].str.len()\n",
    "sns.distplot(text_length)\n",
    "plt.show()"
   ]
  },
  {
   "cell_type": "markdown",
   "metadata": {},
   "source": [
    "## WordCloud of Data"
   ]
  },
  {
   "cell_type": "markdown",
   "metadata": {},
   "source": [
    "A word cloud is a simple yet powerful visual representation object for text processing, which shows the most frequent word with bigger and bolder letters, and with different colors. The smaller the the size of the word the lesser it’s important.It is a visualization technique for text data wherein each word is picturised with its importance in the context or its frequency. Reference is given below: https://www.analyticsvidhya.com/blog/2020/10/word-cloud-or-tag-cloud-in-python/"
   ]
  },
  {
   "cell_type": "markdown",
   "metadata": {},
   "source": [
    "### WordCloud of Training Data"
   ]
  },
  {
   "cell_type": "code",
   "execution_count": 13,
   "metadata": {},
   "outputs": [
    {
     "data": {
      "image/png": "[encoded data removed]",
      "text/plain": [
       "<Figure size 1500x900 with 1 Axes>"
      ]
     },
     "metadata": {},
     "output_type": "display_data"
    }
   ],
   "source": [
    "from wordcloud import WordCloud\n",
    "text = ' '.join(preprocessed_training_data['Text'])\n",
    "\n",
    "# Calculate word frequency, count each word only once\n",
    "word_freq = preprocessed_training_data['Text'].str.split(expand=True).stack().value_counts().apply(lambda x: 1)\n",
    "\n",
    "wordcloud = WordCloud(max_words=80, contour_width=3).generate_from_frequencies(word_freq)\n",
    "\n",
    "\n",
    "plt.figure(figsize = (15, 9))\n",
    "# Display the generated image:\n",
    "plt.imshow(wordcloud, interpolation= \"bilinear\")\n",
    "plt.axis(\"off\")\n",
    "plt.show()"
   ]
  },
  {
   "cell_type": "markdown",
   "metadata": {},
   "source": [
    "## Ngram exploration"
   ]
  },
  {
   "cell_type": "markdown",
   "metadata": {},
   "source": [
    "This is common practice in text data analysis to make charts of the frequency of words. That gives a good idea about what people are talking about most in this text. First, find the frequency of each word in the text column of the dataset. Then plot the top 20 words based on the frequency."
   ]
  },
  {
   "cell_type": "code",
   "execution_count": 14,
   "metadata": {},
   "outputs": [
    {
     "data": {
      "text/html": [
       "<div>\n",
       "<style scoped>\n",
       "    .dataframe tbody tr th:only-of-type {\n",
       "        vertical-align: middle;\n",
       "    }\n",
       "\n",
       "    .dataframe tbody tr th {\n",
       "        vertical-align: top;\n",
       "    }\n",
       "\n",
       "    .dataframe thead th {\n",
       "        text-align: right;\n",
       "    }\n",
       "</style>\n",
       "<table border=\"1\" class=\"dataframe\">\n",
       "  <thead>\n",
       "    <tr style=\"text-align: right;\">\n",
       "      <th></th>\n",
       "      <th>Text</th>\n",
       "      <th>count</th>\n",
       "    </tr>\n",
       "  </thead>\n",
       "  <tbody>\n",
       "    <tr>\n",
       "      <th>0</th>\n",
       "      <td>aap</td>\n",
       "      <td>919</td>\n",
       "    </tr>\n",
       "    <tr>\n",
       "      <th>1</th>\n",
       "      <td>user</td>\n",
       "      <td>642</td>\n",
       "    </tr>\n",
       "    <tr>\n",
       "      <th>2</th>\n",
       "      <td>short</td>\n",
       "      <td>436</td>\n",
       "    </tr>\n",
       "    <tr>\n",
       "      <th>3</th>\n",
       "      <td>today</td>\n",
       "      <td>317</td>\n",
       "    </tr>\n",
       "    <tr>\n",
       "      <th>4</th>\n",
       "      <td>day</td>\n",
       "      <td>301</td>\n",
       "    </tr>\n",
       "    <tr>\n",
       "      <th>5</th>\n",
       "      <td>volume</td>\n",
       "      <td>296</td>\n",
       "    </tr>\n",
       "    <tr>\n",
       "      <th>6</th>\n",
       "      <td>like</td>\n",
       "      <td>278</td>\n",
       "    </tr>\n",
       "    <tr>\n",
       "      <th>7</th>\n",
       "      <td>long</td>\n",
       "      <td>254</td>\n",
       "    </tr>\n",
       "    <tr>\n",
       "      <th>8</th>\n",
       "      <td>good</td>\n",
       "      <td>227</td>\n",
       "    </tr>\n",
       "    <tr>\n",
       "      <th>9</th>\n",
       "      <td>stock</td>\n",
       "      <td>221</td>\n",
       "    </tr>\n",
       "    <tr>\n",
       "      <th>10</th>\n",
       "      <td>goog</td>\n",
       "      <td>211</td>\n",
       "    </tr>\n",
       "    <tr>\n",
       "      <th>11</th>\n",
       "      <td>new</td>\n",
       "      <td>208</td>\n",
       "    </tr>\n",
       "    <tr>\n",
       "      <th>12</th>\n",
       "      <td>bac</td>\n",
       "      <td>204</td>\n",
       "    </tr>\n",
       "    <tr>\n",
       "      <th>13</th>\n",
       "      <td>watch</td>\n",
       "      <td>203</td>\n",
       "    </tr>\n",
       "    <tr>\n",
       "      <th>14</th>\n",
       "      <td>stop</td>\n",
       "      <td>201</td>\n",
       "    </tr>\n",
       "    <tr>\n",
       "      <th>15</th>\n",
       "      <td>still</td>\n",
       "      <td>196</td>\n",
       "    </tr>\n",
       "    <tr>\n",
       "      <th>16</th>\n",
       "      <td>nice</td>\n",
       "      <td>195</td>\n",
       "    </tr>\n",
       "    <tr>\n",
       "      <th>17</th>\n",
       "      <td>back</td>\n",
       "      <td>186</td>\n",
       "    </tr>\n",
       "    <tr>\n",
       "      <th>18</th>\n",
       "      <td>buy</td>\n",
       "      <td>181</td>\n",
       "    </tr>\n",
       "    <tr>\n",
       "      <th>19</th>\n",
       "      <td>next</td>\n",
       "      <td>181</td>\n",
       "    </tr>\n",
       "  </tbody>\n",
       "</table>\n",
       "</div>"
      ],
      "text/plain": [
       "      Text  count\n",
       "0      aap    919\n",
       "1     user    642\n",
       "2    short    436\n",
       "3    today    317\n",
       "4      day    301\n",
       "5   volume    296\n",
       "6     like    278\n",
       "7     long    254\n",
       "8     good    227\n",
       "9    stock    221\n",
       "10    goog    211\n",
       "11     new    208\n",
       "12     bac    204\n",
       "13   watch    203\n",
       "14    stop    201\n",
       "15   still    196\n",
       "16    nice    195\n",
       "17    back    186\n",
       "18     buy    181\n",
       "19    next    181"
      ]
     },
     "execution_count": 14,
     "metadata": {},
     "output_type": "execute_result"
    }
   ],
   "source": [
    "def get_top_n_words(corpus, n=None):\n",
    "    vec=CountVectorizer().fit(corpus)\n",
    "    bag_of_words = vec.transform(corpus)\n",
    "    sum_words = bag_of_words.sum(axis=0)\n",
    "    words_freq = [(word, sum_words[0, idx]) for word, idx in vec.vocabulary_.items()]\n",
    "    words_freq =sorted(words_freq, key = lambda x: x[1], reverse=True)\n",
    "    return words_freq[:n]\n",
    "common_words = get_top_n_words(preprocessed_training_data['Text'], 20)\n",
    "df1 = pd.DataFrame(common_words, columns = ['Text', 'count'])\n",
    "df1"
   ]
  },
  {
   "cell_type": "markdown",
   "metadata": {},
   "source": [
    "Here is the bar plot of the frequency of the top 20 words:"
   ]
  },
  {
   "cell_type": "code",
   "execution_count": 15,
   "metadata": {},
   "outputs": [
    {
     "data": {
      "text/plain": [
       "<Axes: title={'center': 'Bar Chart of Top Words Frequency'}, xlabel='Top Words', ylabel='Count'>"
      ]
     },
     "execution_count": 15,
     "metadata": {},
     "output_type": "execute_result"
    },
    {
     "data": {
      "image/png": "[encoded data removed]",
      "text/plain": [
       "<Figure size 1000x600 with 1 Axes>"
      ]
     },
     "metadata": {},
     "output_type": "display_data"
    }
   ],
   "source": [
    "df1.groupby('Text').sum()['count'].sort_values(ascending=False).plot(\n",
    "    kind='bar',\n",
    "    figsize=(10, 6),\n",
    "    xlabel = \"Top Words\",\n",
    "    ylabel = \"Count\",\n",
    "    title = \"Bar Chart of Top Words Frequency\"\n",
    ")"
   ]
  },
  {
   "cell_type": "markdown",
   "metadata": {},
   "source": [
    "# Method 1: Feature Extraction using Bag-of-Words Method (Converting Input to Numerical Representation)"
   ]
  },
  {
   "cell_type": "markdown",
   "metadata": {},
   "source": [
    "In Natural Language Processing, Feature Extraction is one of the most important steps to be followed for a better understanding of the context of what we are dealing with. After the initial text is cleaned, we need to transform it into its features to be used for modeling.\n",
    "\n",
    "    Bag of words is a Natural Language Processing technique of text modelling. In technical terms, we can say that it is a method of feature extraction with text data. This approach is a simple and flexible way of extracting features from documents.\n",
    "\n",
    "    A bag of words is a representation of text that describes the occurrence of words within a document. We just keep track of word counts and disregard the grammatical details and the word order. It is called a “bag” of words because any information about the order or structure of words in the document is discarded. The model is only concerned with whether known words occur in the document, not where in the document.\n",
    "\n",
    "https://www.mygreatlearning.com/blog/bag-of-words/"
   ]
  },
  {
   "cell_type": "markdown",
   "metadata": {},
   "source": [
    "### Train Count Vectorizer on Training Data"
   ]
  },
  {
   "cell_type": "markdown",
   "metadata": {},
   "source": [
    "CountVectorizer is used to convert a collection of text documents to a vector of term/token counts. It also enables the ​pre-processing of text data prior to generating the vector representation. This functionality makes it a highly flexible feature representation module for text."
   ]
  },
  {
   "cell_type": "code",
   "execution_count": 16,
   "metadata": {},
   "outputs": [],
   "source": [
    "''' \n",
    "    /*----------------------------- FEATURE_EXTRACTION ----------------\n",
    "    | Function  : CountVectorizer()\n",
    "    | Purpose   : Transform Input (Text) into Numerical Representation \n",
    "    | Arguments : \n",
    "    |       Text: Input Text\n",
    "    | Return    :\n",
    "    |   Features: Numerical Representation\n",
    "    *-----------------------------------------------------------------*/\n",
    "'''\n",
    "\n",
    "# Initialize the Count Vectorizer \n",
    "count_vectorizer = CountVectorizer(\n",
    "        analyzer = 'word',    # Word n-grams Generation\n",
    "        strip_accents='unicode',\n",
    "        token_pattern = r'\\w{2,}',  #vectorize 2-character words or more\n",
    "        ngram_range = (1,1),  # Word bi-grams Feeatures\n",
    "        max_features = 5000) # Extract 5000 Features \n",
    "train_text = preprocessed_training_data['Text']\n",
    "\n",
    "# Fit the Tfidf Vectorizer on Input Text of Training Data\n",
    "count_vectorizer = count_vectorizer.fit(train_text)\n"
   ]
  },
  {
   "cell_type": "markdown",
   "metadata": {},
   "source": [
    "### Save the Trained Count Vectorizer"
   ]
  },
  {
   "cell_type": "code",
   "execution_count": 17,
   "metadata": {},
   "outputs": [],
   "source": [
    "''' \n",
    "    /*----------------- SAVE_THE_TRAINED_COUNT_VECTORIZER -------------------\n",
    "    | Function  : dump()\n",
    "    | Purpose   : Save the Trained Vectorizer on your Hard Disk\n",
    "    | Arguments : \n",
    "    |    Model   : Model Objects\n",
    "    | Return    :\n",
    "    |    File    : Trained Vectorizer will be Saved on Hard Disk\n",
    "    *-----------------------------------------------------------------------*/\n",
    "'''\n",
    "\n",
    "# Save the Trained Tfidf Vectorizer in Pkl File\n",
    "pickle.dump(count_vectorizer, open('vectorizer_word_unigram.pkl', 'wb'))"
   ]
  },
  {
   "cell_type": "markdown",
   "metadata": {},
   "source": [
    "## Convert Input of Training Data into Feature Vectors"
   ]
  },
  {
   "cell_type": "code",
   "execution_count": 18,
   "metadata": {},
   "outputs": [
    {
     "name": "stdout",
     "output_type": "stream",
     "text": [
      "\n",
      "Document Features Matrix of Training Data :\n",
      "============================================\n",
      "\n"
     ]
    },
    {
     "data": {
      "text/html": [
       "<div>\n",
       "<style scoped>\n",
       "    .dataframe tbody tr th:only-of-type {\n",
       "        vertical-align: middle;\n",
       "    }\n",
       "\n",
       "    .dataframe tbody tr th {\n",
       "        vertical-align: top;\n",
       "    }\n",
       "\n",
       "    .dataframe thead th {\n",
       "        text-align: right;\n",
       "    }\n",
       "</style>\n",
       "<table border=\"1\" class=\"dataframe\">\n",
       "  <thead>\n",
       "    <tr style=\"text-align: right;\">\n",
       "      <th></th>\n",
       "      <th>aa</th>\n",
       "      <th>aap</th>\n",
       "      <th>aapl</th>\n",
       "      <th>aaps</th>\n",
       "      <th>abbott</th>\n",
       "      <th>abcd</th>\n",
       "      <th>able</th>\n",
       "      <th>absent</th>\n",
       "      <th>absolutely</th>\n",
       "      <th>abt</th>\n",
       "      <th>...</th>\n",
       "      <th>znf</th>\n",
       "      <th>znga</th>\n",
       "      <th>zone</th>\n",
       "      <th>zonetime</th>\n",
       "      <th>zoom</th>\n",
       "      <th>zoombombing</th>\n",
       "      <th>zot</th>\n",
       "      <th>zqk</th>\n",
       "      <th>zte</th>\n",
       "      <th>zynga</th>\n",
       "    </tr>\n",
       "  </thead>\n",
       "  <tbody>\n",
       "    <tr>\n",
       "      <th>0</th>\n",
       "      <td>0</td>\n",
       "      <td>0</td>\n",
       "      <td>0</td>\n",
       "      <td>0</td>\n",
       "      <td>0</td>\n",
       "      <td>0</td>\n",
       "      <td>0</td>\n",
       "      <td>0</td>\n",
       "      <td>0</td>\n",
       "      <td>0</td>\n",
       "      <td>...</td>\n",
       "      <td>0</td>\n",
       "      <td>0</td>\n",
       "      <td>0</td>\n",
       "      <td>0</td>\n",
       "      <td>0</td>\n",
       "      <td>0</td>\n",
       "      <td>0</td>\n",
       "      <td>0</td>\n",
       "      <td>0</td>\n",
       "      <td>0</td>\n",
       "    </tr>\n",
       "    <tr>\n",
       "      <th>1</th>\n",
       "      <td>0</td>\n",
       "      <td>1</td>\n",
       "      <td>0</td>\n",
       "      <td>0</td>\n",
       "      <td>0</td>\n",
       "      <td>0</td>\n",
       "      <td>0</td>\n",
       "      <td>0</td>\n",
       "      <td>0</td>\n",
       "      <td>0</td>\n",
       "      <td>...</td>\n",
       "      <td>0</td>\n",
       "      <td>0</td>\n",
       "      <td>0</td>\n",
       "      <td>0</td>\n",
       "      <td>0</td>\n",
       "      <td>0</td>\n",
       "      <td>0</td>\n",
       "      <td>0</td>\n",
       "      <td>0</td>\n",
       "      <td>0</td>\n",
       "    </tr>\n",
       "    <tr>\n",
       "      <th>2</th>\n",
       "      <td>0</td>\n",
       "      <td>0</td>\n",
       "      <td>0</td>\n",
       "      <td>0</td>\n",
       "      <td>0</td>\n",
       "      <td>0</td>\n",
       "      <td>0</td>\n",
       "      <td>0</td>\n",
       "      <td>0</td>\n",
       "      <td>0</td>\n",
       "      <td>...</td>\n",
       "      <td>0</td>\n",
       "      <td>0</td>\n",
       "      <td>0</td>\n",
       "      <td>0</td>\n",
       "      <td>0</td>\n",
       "      <td>0</td>\n",
       "      <td>0</td>\n",
       "      <td>0</td>\n",
       "      <td>0</td>\n",
       "      <td>0</td>\n",
       "    </tr>\n",
       "    <tr>\n",
       "      <th>3</th>\n",
       "      <td>0</td>\n",
       "      <td>0</td>\n",
       "      <td>0</td>\n",
       "      <td>0</td>\n",
       "      <td>0</td>\n",
       "      <td>0</td>\n",
       "      <td>0</td>\n",
       "      <td>0</td>\n",
       "      <td>0</td>\n",
       "      <td>0</td>\n",
       "      <td>...</td>\n",
       "      <td>0</td>\n",
       "      <td>0</td>\n",
       "      <td>0</td>\n",
       "      <td>0</td>\n",
       "      <td>0</td>\n",
       "      <td>0</td>\n",
       "      <td>0</td>\n",
       "      <td>0</td>\n",
       "      <td>0</td>\n",
       "      <td>0</td>\n",
       "    </tr>\n",
       "    <tr>\n",
       "      <th>4</th>\n",
       "      <td>0</td>\n",
       "      <td>0</td>\n",
       "      <td>0</td>\n",
       "      <td>0</td>\n",
       "      <td>0</td>\n",
       "      <td>0</td>\n",
       "      <td>0</td>\n",
       "      <td>0</td>\n",
       "      <td>0</td>\n",
       "      <td>0</td>\n",
       "      <td>...</td>\n",
       "      <td>0</td>\n",
       "      <td>0</td>\n",
       "      <td>0</td>\n",
       "      <td>0</td>\n",
       "      <td>0</td>\n",
       "      <td>0</td>\n",
       "      <td>0</td>\n",
       "      <td>0</td>\n",
       "      <td>0</td>\n",
       "      <td>0</td>\n",
       "    </tr>\n",
       "  </tbody>\n",
       "</table>\n",
       "<p>5 rows × 5000 columns</p>\n",
       "</div>"
      ],
      "text/plain": [
       "   aa  aap  aapl  aaps  abbott  abcd  able  absent  absolutely  abt  ...  znf  \\\n",
       "0   0    0     0     0       0     0     0       0           0    0  ...    0   \n",
       "1   0    1     0     0       0     0     0       0           0    0  ...    0   \n",
       "2   0    0     0     0       0     0     0       0           0    0  ...    0   \n",
       "3   0    0     0     0       0     0     0       0           0    0  ...    0   \n",
       "4   0    0     0     0       0     0     0       0           0    0  ...    0   \n",
       "\n",
       "   znga  zone  zonetime  zoom  zoombombing  zot  zqk  zte  zynga  \n",
       "0     0     0         0     0            0    0    0    0      0  \n",
       "1     0     0         0     0            0    0    0    0      0  \n",
       "2     0     0         0     0            0    0    0    0      0  \n",
       "3     0     0         0     0            0    0    0    0      0  \n",
       "4     0     0         0     0            0    0    0    0      0  \n",
       "\n",
       "[5 rows x 5000 columns]"
      ]
     },
     "execution_count": 18,
     "metadata": {},
     "output_type": "execute_result"
    }
   ],
   "source": [
    "# Transform the Input Text of Training Data using Trained Tfidf Vectorizer\n",
    "train_feature_vectors = count_vectorizer.transform(train_text)\n",
    "train_feature_vectors = train_feature_vectors.todense()\n",
    "\n",
    "# Get the name of Features (Feature  Set) and create a DataFrame of Input Features\n",
    "input_training_features = pd.DataFrame(train_feature_vectors, columns = count_vectorizer.get_feature_names_out())\n",
    "input_training_features = input_training_features.round(2)\n",
    "\n",
    "# Display the Document Feature Matrix of Training Data\n",
    "print(\"\\nDocument Features Matrix of Training Data :\")\n",
    "print(\"============================================\\n\")\n",
    "#input_training_features = input_training_features.round(2)\n",
    "input_training_features.head()"
   ]
  },
  {
   "cell_type": "markdown",
   "metadata": {},
   "source": [
    "# Splitting Input vectors and labels"
   ]
  },
  {
   "cell_type": "markdown",
   "metadata": {},
   "source": [
    "In machine learning, classification problems involve training a model to apply labels to, or classify, the input values and sort your dataset into categories."
   ]
  },
  {
   "cell_type": "markdown",
   "metadata": {},
   "source": [
    "### Splitting Input vectors and labels of Training Data"
   ]
  },
  {
   "cell_type": "code",
   "execution_count": 19,
   "metadata": {},
   "outputs": [
    {
     "name": "stdout",
     "output_type": "stream",
     "text": [
      "\n",
      "Output of Training Data:\n",
      "========================\n",
      "\n"
     ]
    },
    {
     "data": {
      "text/html": [
       "<div>\n",
       "<style scoped>\n",
       "    .dataframe tbody tr th:only-of-type {\n",
       "        vertical-align: middle;\n",
       "    }\n",
       "\n",
       "    .dataframe tbody tr th {\n",
       "        vertical-align: top;\n",
       "    }\n",
       "\n",
       "    .dataframe thead th {\n",
       "        text-align: right;\n",
       "    }\n",
       "</style>\n",
       "<table border=\"1\" class=\"dataframe\">\n",
       "  <thead>\n",
       "    <tr style=\"text-align: right;\">\n",
       "      <th></th>\n",
       "      <th>Sentiment</th>\n",
       "    </tr>\n",
       "  </thead>\n",
       "  <tbody>\n",
       "    <tr>\n",
       "      <th>0</th>\n",
       "      <td>1</td>\n",
       "    </tr>\n",
       "    <tr>\n",
       "      <th>1</th>\n",
       "      <td>1</td>\n",
       "    </tr>\n",
       "    <tr>\n",
       "      <th>2</th>\n",
       "      <td>1</td>\n",
       "    </tr>\n",
       "    <tr>\n",
       "      <th>3</th>\n",
       "      <td>1</td>\n",
       "    </tr>\n",
       "    <tr>\n",
       "      <th>4</th>\n",
       "      <td>1</td>\n",
       "    </tr>\n",
       "  </tbody>\n",
       "</table>\n",
       "</div>"
      ],
      "text/plain": [
       "   Sentiment\n",
       "0          1\n",
       "1          1\n",
       "2          1\n",
       "3          1\n",
       "4          1"
      ]
     },
     "execution_count": 19,
     "metadata": {},
     "output_type": "execute_result"
    }
   ],
   "source": [
    "''' \n",
    "    /*------------- SPLITTING_TRAINING_DATA_OUTPUTS/LABELS -------------\n",
    "'''\n",
    "\n",
    "# Split the Training Data Outputs / Labels and Create a DataFrame\n",
    "\n",
    "training_data_output = pd.DataFrame(preprocessed_training_data.iloc[: , 1])\n",
    "\n",
    "# Output Label Gender of Training Data\n",
    "print(\"\\nOutput of Training Data:\")\n",
    "print(\"========================\\n\")\n",
    "training_data_output.head()"
   ]
  },
  {
   "cell_type": "code",
   "execution_count": 20,
   "metadata": {},
   "outputs": [],
   "source": [
    "from sklearn.model_selection import train_test_split\n",
    "\n",
    "X = input_training_features\n",
    "y = training_data_output\n",
    "\n",
    "X_train, X_test, y_train, y_test =train_test_split(X, y, test_size=0.2, random_state=2020)"
   ]
  },
  {
   "cell_type": "markdown",
   "metadata": {},
   "source": [
    "# Train Machine Learning Models using Training Data"
   ]
  },
  {
   "cell_type": "code",
   "execution_count": 21,
   "metadata": {},
   "outputs": [
    {
     "data": {
      "text/html": [
       "<div>\n",
       "<style scoped>\n",
       "    .dataframe tbody tr th:only-of-type {\n",
       "        vertical-align: middle;\n",
       "    }\n",
       "\n",
       "    .dataframe tbody tr th {\n",
       "        vertical-align: top;\n",
       "    }\n",
       "\n",
       "    .dataframe thead th {\n",
       "        text-align: right;\n",
       "    }\n",
       "</style>\n",
       "<table border=\"1\" class=\"dataframe\">\n",
       "  <thead>\n",
       "    <tr style=\"text-align: right;\">\n",
       "      <th></th>\n",
       "      <th>Sentiment</th>\n",
       "    </tr>\n",
       "  </thead>\n",
       "  <tbody>\n",
       "    <tr>\n",
       "      <th>422</th>\n",
       "      <td>-1</td>\n",
       "    </tr>\n",
       "    <tr>\n",
       "      <th>3006</th>\n",
       "      <td>1</td>\n",
       "    </tr>\n",
       "    <tr>\n",
       "      <th>2150</th>\n",
       "      <td>-1</td>\n",
       "    </tr>\n",
       "    <tr>\n",
       "      <th>5088</th>\n",
       "      <td>-1</td>\n",
       "    </tr>\n",
       "    <tr>\n",
       "      <th>3768</th>\n",
       "      <td>1</td>\n",
       "    </tr>\n",
       "    <tr>\n",
       "      <th>...</th>\n",
       "      <td>...</td>\n",
       "    </tr>\n",
       "    <tr>\n",
       "      <th>2784</th>\n",
       "      <td>-1</td>\n",
       "    </tr>\n",
       "    <tr>\n",
       "      <th>4720</th>\n",
       "      <td>1</td>\n",
       "    </tr>\n",
       "    <tr>\n",
       "      <th>2903</th>\n",
       "      <td>1</td>\n",
       "    </tr>\n",
       "    <tr>\n",
       "      <th>1188</th>\n",
       "      <td>-1</td>\n",
       "    </tr>\n",
       "    <tr>\n",
       "      <th>241</th>\n",
       "      <td>1</td>\n",
       "    </tr>\n",
       "  </tbody>\n",
       "</table>\n",
       "<p>1159 rows × 1 columns</p>\n",
       "</div>"
      ],
      "text/plain": [
       "      Sentiment\n",
       "422          -1\n",
       "3006          1\n",
       "2150         -1\n",
       "5088         -1\n",
       "3768          1\n",
       "...         ...\n",
       "2784         -1\n",
       "4720          1\n",
       "2903          1\n",
       "1188         -1\n",
       "241           1\n",
       "\n",
       "[1159 rows x 1 columns]"
      ]
     },
     "execution_count": 21,
     "metadata": {},
     "output_type": "execute_result"
    }
   ],
   "source": [
    "y_test"
   ]
  },
  {
   "cell_type": "markdown",
   "metadata": {},
   "source": [
    "## Random Forest Classifier"
   ]
  },
  {
   "cell_type": "code",
   "execution_count": 22,
   "metadata": {},
   "outputs": [
    {
     "name": "stdout",
     "output_type": "stream",
     "text": [
      "Parameters and their values:\n",
      "============================\n",
      "\n",
      "RandomForestClassifier(n_estimators=5, random_state=0)\n"
     ]
    }
   ],
   "source": [
    "random_forest_classifier = RandomForestClassifier(n_estimators=5, random_state=0)\n",
    "random_forest = random_forest_classifier.fit(X_train,np.ravel(y_train))\n",
    "\n",
    "print(\"Parameters and their values:\")\n",
    "print(\"============================\\n\")\n",
    "print(random_forest)"
   ]
  },
  {
   "cell_type": "markdown",
   "metadata": {},
   "source": [
    "## Gradient Boosting Classifier"
   ]
  },
  {
   "cell_type": "code",
   "execution_count": 23,
   "metadata": {},
   "outputs": [
    {
     "name": "stdout",
     "output_type": "stream",
     "text": [
      "Parameters and their values:\n",
      "============================\n",
      "\n",
      "GradientBoostingClassifier()\n"
     ]
    }
   ],
   "source": [
    "from sklearn.ensemble import GradientBoostingClassifier\n",
    "gb_claasifier = GradientBoostingClassifier()\n",
    "gb_claasifier = gb_claasifier.fit(X_train,np.ravel(y_train))\n",
    "\n",
    "print(\"Parameters and their values:\")\n",
    "print(\"============================\\n\")\n",
    "print(gb_claasifier)"
   ]
  },
  {
   "cell_type": "markdown",
   "metadata": {},
   "source": [
    "## Linear SVC Classifier"
   ]
  },
  {
   "cell_type": "code",
   "execution_count": 24,
   "metadata": {},
   "outputs": [
    {
     "name": "stdout",
     "output_type": "stream",
     "text": [
      "Parameters and their values:\n",
      "============================\n",
      "\n",
      "LinearSVC()\n"
     ]
    }
   ],
   "source": [
    "linear_svc = LinearSVC()\n",
    "linearsvc = linear_svc.fit(X_train,np.ravel(y_train))\n",
    "\n",
    "print(\"Parameters and their values:\")\n",
    "print(\"============================\\n\")\n",
    "print(linearsvc)"
   ]
  },
  {
   "cell_type": "markdown",
   "metadata": {},
   "source": [
    "## Naive Bayes Classifier "
   ]
  },
  {
   "cell_type": "code",
   "execution_count": 25,
   "metadata": {},
   "outputs": [
    {
     "name": "stdout",
     "output_type": "stream",
     "text": [
      "Parameters and their values:\n",
      "============================\n",
      "\n",
      "BernoulliNB()\n"
     ]
    }
   ],
   "source": [
    "bernoulli_nb = BernoulliNB()\n",
    "ber_nb = bernoulli_nb.fit(X_train,np.ravel(y_train))\n",
    "\n",
    "print(\"Parameters and their values:\")\n",
    "print(\"============================\\n\")\n",
    "print(ber_nb)"
   ]
  },
  {
   "cell_type": "markdown",
   "metadata": {},
   "source": [
    "## Multinomial Naive Bayes Classifier"
   ]
  },
  {
   "cell_type": "code",
   "execution_count": 26,
   "metadata": {},
   "outputs": [
    {
     "name": "stdout",
     "output_type": "stream",
     "text": [
      "Parameters and their values:\n",
      "============================\n",
      "\n",
      "MultinomialNB()\n"
     ]
    }
   ],
   "source": [
    "from sklearn.naive_bayes import MultinomialNB\n",
    "multi_nb = MultinomialNB()\n",
    "multi_nb = multi_nb.fit(X_train,np.ravel(y_train))\n",
    "\n",
    "print(\"Parameters and their values:\")\n",
    "print(\"============================\\n\")\n",
    "print(multi_nb)"
   ]
  },
  {
   "cell_type": "markdown",
   "metadata": {},
   "source": [
    "# Evaluate Machine Learning Algorithms "
   ]
  },
  {
   "cell_type": "markdown",
   "metadata": {},
   "source": [
    "## Random Forest Classifier"
   ]
  },
  {
   "cell_type": "code",
   "execution_count": 27,
   "metadata": {},
   "outputs": [
    {
     "data": {
      "text/html": [
       "<div>\n",
       "<style scoped>\n",
       "    .dataframe tbody tr th:only-of-type {\n",
       "        vertical-align: middle;\n",
       "    }\n",
       "\n",
       "    .dataframe tbody tr th {\n",
       "        vertical-align: top;\n",
       "    }\n",
       "\n",
       "    .dataframe thead th {\n",
       "        text-align: right;\n",
       "    }\n",
       "</style>\n",
       "<table border=\"1\" class=\"dataframe\">\n",
       "  <thead>\n",
       "    <tr style=\"text-align: right;\">\n",
       "      <th></th>\n",
       "      <th>aa</th>\n",
       "      <th>aap</th>\n",
       "      <th>aapl</th>\n",
       "      <th>aaps</th>\n",
       "      <th>abbott</th>\n",
       "      <th>abcd</th>\n",
       "      <th>able</th>\n",
       "      <th>absent</th>\n",
       "      <th>absolutely</th>\n",
       "      <th>abt</th>\n",
       "      <th>...</th>\n",
       "      <th>znf</th>\n",
       "      <th>znga</th>\n",
       "      <th>zone</th>\n",
       "      <th>zonetime</th>\n",
       "      <th>zoom</th>\n",
       "      <th>zoombombing</th>\n",
       "      <th>zot</th>\n",
       "      <th>zqk</th>\n",
       "      <th>zte</th>\n",
       "      <th>zynga</th>\n",
       "    </tr>\n",
       "  </thead>\n",
       "  <tbody>\n",
       "    <tr>\n",
       "      <th>422</th>\n",
       "      <td>0</td>\n",
       "      <td>0</td>\n",
       "      <td>0</td>\n",
       "      <td>0</td>\n",
       "      <td>0</td>\n",
       "      <td>0</td>\n",
       "      <td>0</td>\n",
       "      <td>0</td>\n",
       "      <td>0</td>\n",
       "      <td>0</td>\n",
       "      <td>...</td>\n",
       "      <td>0</td>\n",
       "      <td>0</td>\n",
       "      <td>0</td>\n",
       "      <td>0</td>\n",
       "      <td>0</td>\n",
       "      <td>0</td>\n",
       "      <td>0</td>\n",
       "      <td>0</td>\n",
       "      <td>0</td>\n",
       "      <td>0</td>\n",
       "    </tr>\n",
       "    <tr>\n",
       "      <th>3006</th>\n",
       "      <td>0</td>\n",
       "      <td>0</td>\n",
       "      <td>0</td>\n",
       "      <td>0</td>\n",
       "      <td>0</td>\n",
       "      <td>0</td>\n",
       "      <td>0</td>\n",
       "      <td>0</td>\n",
       "      <td>0</td>\n",
       "      <td>0</td>\n",
       "      <td>...</td>\n",
       "      <td>0</td>\n",
       "      <td>0</td>\n",
       "      <td>0</td>\n",
       "      <td>0</td>\n",
       "      <td>0</td>\n",
       "      <td>0</td>\n",
       "      <td>0</td>\n",
       "      <td>0</td>\n",
       "      <td>0</td>\n",
       "      <td>0</td>\n",
       "    </tr>\n",
       "    <tr>\n",
       "      <th>2150</th>\n",
       "      <td>0</td>\n",
       "      <td>0</td>\n",
       "      <td>0</td>\n",
       "      <td>0</td>\n",
       "      <td>0</td>\n",
       "      <td>0</td>\n",
       "      <td>0</td>\n",
       "      <td>0</td>\n",
       "      <td>0</td>\n",
       "      <td>0</td>\n",
       "      <td>...</td>\n",
       "      <td>0</td>\n",
       "      <td>0</td>\n",
       "      <td>0</td>\n",
       "      <td>0</td>\n",
       "      <td>0</td>\n",
       "      <td>0</td>\n",
       "      <td>0</td>\n",
       "      <td>0</td>\n",
       "      <td>0</td>\n",
       "      <td>0</td>\n",
       "    </tr>\n",
       "    <tr>\n",
       "      <th>5088</th>\n",
       "      <td>0</td>\n",
       "      <td>0</td>\n",
       "      <td>0</td>\n",
       "      <td>0</td>\n",
       "      <td>0</td>\n",
       "      <td>0</td>\n",
       "      <td>0</td>\n",
       "      <td>0</td>\n",
       "      <td>0</td>\n",
       "      <td>0</td>\n",
       "      <td>...</td>\n",
       "      <td>0</td>\n",
       "      <td>0</td>\n",
       "      <td>0</td>\n",
       "      <td>0</td>\n",
       "      <td>0</td>\n",
       "      <td>0</td>\n",
       "      <td>0</td>\n",
       "      <td>0</td>\n",
       "      <td>0</td>\n",
       "      <td>0</td>\n",
       "    </tr>\n",
       "    <tr>\n",
       "      <th>3768</th>\n",
       "      <td>0</td>\n",
       "      <td>0</td>\n",
       "      <td>0</td>\n",
       "      <td>0</td>\n",
       "      <td>0</td>\n",
       "      <td>0</td>\n",
       "      <td>0</td>\n",
       "      <td>0</td>\n",
       "      <td>0</td>\n",
       "      <td>0</td>\n",
       "      <td>...</td>\n",
       "      <td>0</td>\n",
       "      <td>0</td>\n",
       "      <td>0</td>\n",
       "      <td>0</td>\n",
       "      <td>0</td>\n",
       "      <td>0</td>\n",
       "      <td>0</td>\n",
       "      <td>0</td>\n",
       "      <td>0</td>\n",
       "      <td>0</td>\n",
       "    </tr>\n",
       "    <tr>\n",
       "      <th>...</th>\n",
       "      <td>...</td>\n",
       "      <td>...</td>\n",
       "      <td>...</td>\n",
       "      <td>...</td>\n",
       "      <td>...</td>\n",
       "      <td>...</td>\n",
       "      <td>...</td>\n",
       "      <td>...</td>\n",
       "      <td>...</td>\n",
       "      <td>...</td>\n",
       "      <td>...</td>\n",
       "      <td>...</td>\n",
       "      <td>...</td>\n",
       "      <td>...</td>\n",
       "      <td>...</td>\n",
       "      <td>...</td>\n",
       "      <td>...</td>\n",
       "      <td>...</td>\n",
       "      <td>...</td>\n",
       "      <td>...</td>\n",
       "      <td>...</td>\n",
       "    </tr>\n",
       "    <tr>\n",
       "      <th>2784</th>\n",
       "      <td>0</td>\n",
       "      <td>1</td>\n",
       "      <td>0</td>\n",
       "      <td>0</td>\n",
       "      <td>0</td>\n",
       "      <td>0</td>\n",
       "      <td>0</td>\n",
       "      <td>0</td>\n",
       "      <td>0</td>\n",
       "      <td>0</td>\n",
       "      <td>...</td>\n",
       "      <td>0</td>\n",
       "      <td>0</td>\n",
       "      <td>0</td>\n",
       "      <td>0</td>\n",
       "      <td>0</td>\n",
       "      <td>0</td>\n",
       "      <td>0</td>\n",
       "      <td>0</td>\n",
       "      <td>0</td>\n",
       "      <td>0</td>\n",
       "    </tr>\n",
       "    <tr>\n",
       "      <th>4720</th>\n",
       "      <td>0</td>\n",
       "      <td>0</td>\n",
       "      <td>0</td>\n",
       "      <td>0</td>\n",
       "      <td>0</td>\n",
       "      <td>0</td>\n",
       "      <td>0</td>\n",
       "      <td>0</td>\n",
       "      <td>0</td>\n",
       "      <td>0</td>\n",
       "      <td>...</td>\n",
       "      <td>0</td>\n",
       "      <td>0</td>\n",
       "      <td>0</td>\n",
       "      <td>0</td>\n",
       "      <td>0</td>\n",
       "      <td>0</td>\n",
       "      <td>0</td>\n",
       "      <td>0</td>\n",
       "      <td>0</td>\n",
       "      <td>0</td>\n",
       "    </tr>\n",
       "    <tr>\n",
       "      <th>2903</th>\n",
       "      <td>0</td>\n",
       "      <td>0</td>\n",
       "      <td>0</td>\n",
       "      <td>0</td>\n",
       "      <td>0</td>\n",
       "      <td>0</td>\n",
       "      <td>0</td>\n",
       "      <td>0</td>\n",
       "      <td>0</td>\n",
       "      <td>0</td>\n",
       "      <td>...</td>\n",
       "      <td>0</td>\n",
       "      <td>1</td>\n",
       "      <td>0</td>\n",
       "      <td>0</td>\n",
       "      <td>0</td>\n",
       "      <td>0</td>\n",
       "      <td>0</td>\n",
       "      <td>0</td>\n",
       "      <td>0</td>\n",
       "      <td>0</td>\n",
       "    </tr>\n",
       "    <tr>\n",
       "      <th>1188</th>\n",
       "      <td>0</td>\n",
       "      <td>1</td>\n",
       "      <td>0</td>\n",
       "      <td>0</td>\n",
       "      <td>0</td>\n",
       "      <td>0</td>\n",
       "      <td>0</td>\n",
       "      <td>0</td>\n",
       "      <td>0</td>\n",
       "      <td>0</td>\n",
       "      <td>...</td>\n",
       "      <td>0</td>\n",
       "      <td>0</td>\n",
       "      <td>0</td>\n",
       "      <td>0</td>\n",
       "      <td>0</td>\n",
       "      <td>0</td>\n",
       "      <td>0</td>\n",
       "      <td>0</td>\n",
       "      <td>0</td>\n",
       "      <td>0</td>\n",
       "    </tr>\n",
       "    <tr>\n",
       "      <th>241</th>\n",
       "      <td>0</td>\n",
       "      <td>0</td>\n",
       "      <td>0</td>\n",
       "      <td>0</td>\n",
       "      <td>0</td>\n",
       "      <td>0</td>\n",
       "      <td>0</td>\n",
       "      <td>0</td>\n",
       "      <td>0</td>\n",
       "      <td>0</td>\n",
       "      <td>...</td>\n",
       "      <td>0</td>\n",
       "      <td>0</td>\n",
       "      <td>0</td>\n",
       "      <td>0</td>\n",
       "      <td>0</td>\n",
       "      <td>0</td>\n",
       "      <td>0</td>\n",
       "      <td>0</td>\n",
       "      <td>0</td>\n",
       "      <td>0</td>\n",
       "    </tr>\n",
       "  </tbody>\n",
       "</table>\n",
       "<p>1159 rows × 5000 columns</p>\n",
       "</div>"
      ],
      "text/plain": [
       "      aa  aap  aapl  aaps  abbott  abcd  able  absent  absolutely  abt  ...  \\\n",
       "422    0    0     0     0       0     0     0       0           0    0  ...   \n",
       "3006   0    0     0     0       0     0     0       0           0    0  ...   \n",
       "2150   0    0     0     0       0     0     0       0           0    0  ...   \n",
       "5088   0    0     0     0       0     0     0       0           0    0  ...   \n",
       "3768   0    0     0     0       0     0     0       0           0    0  ...   \n",
       "...   ..  ...   ...   ...     ...   ...   ...     ...         ...  ...  ...   \n",
       "2784   0    1     0     0       0     0     0       0           0    0  ...   \n",
       "4720   0    0     0     0       0     0     0       0           0    0  ...   \n",
       "2903   0    0     0     0       0     0     0       0           0    0  ...   \n",
       "1188   0    1     0     0       0     0     0       0           0    0  ...   \n",
       "241    0    0     0     0       0     0     0       0           0    0  ...   \n",
       "\n",
       "      znf  znga  zone  zonetime  zoom  zoombombing  zot  zqk  zte  zynga  \n",
       "422     0     0     0         0     0            0    0    0    0      0  \n",
       "3006    0     0     0         0     0            0    0    0    0      0  \n",
       "2150    0     0     0         0     0            0    0    0    0      0  \n",
       "5088    0     0     0         0     0            0    0    0    0      0  \n",
       "3768    0     0     0         0     0            0    0    0    0      0  \n",
       "...   ...   ...   ...       ...   ...          ...  ...  ...  ...    ...  \n",
       "2784    0     0     0         0     0            0    0    0    0      0  \n",
       "4720    0     0     0         0     0            0    0    0    0      0  \n",
       "2903    0     1     0         0     0            0    0    0    0      0  \n",
       "1188    0     0     0         0     0            0    0    0    0      0  \n",
       "241     0     0     0         0     0            0    0    0    0      0  \n",
       "\n",
       "[1159 rows x 5000 columns]"
      ]
     },
     "execution_count": 27,
     "metadata": {},
     "output_type": "execute_result"
    }
   ],
   "source": [
    "X_test"
   ]
  },
  {
   "cell_type": "code",
   "execution_count": 28,
   "metadata": {},
   "outputs": [
    {
     "name": "stdout",
     "output_type": "stream",
     "text": [
      "\n",
      "\n",
      "Accuracy Score of Random Forest Classifier:\n",
      "===========================================\n",
      "\n",
      "0.74\n",
      "\n",
      "\n",
      "Precision Score of Random Forest Classifier:\n",
      "===========================================\n",
      "\n",
      "0.72\n",
      "\n",
      "\n",
      "Recall Score of Random Forest Classifier:\n",
      "===========================================\n",
      "\n",
      "0.74\n",
      "\n",
      "\n",
      "F1 Score of Random Forest Classifier:\n",
      "===========================================\n",
      "\n",
      "0.74\n"
     ]
    }
   ],
   "source": [
    "ran_for_predict=random_forest_classifier.predict(X_test)\n",
    "print(\"\\n\\nAccuracy Score of Random Forest Classifier:\")\n",
    "print(\"===========================================\\n\")\n",
    "\n",
    "ran_for_accuracy = round(accuracy_score(y_test,ran_for_predict),2)\n",
    "print(ran_for_accuracy)\n",
    "\n",
    "print(\"\\n\\nPrecision Score of Random Forest Classifier:\")\n",
    "print(\"===========================================\\n\")\n",
    "\n",
    "ran_for_pricision = round(precision_score(y_test,ran_for_predict,average='macro'),2)\n",
    "print(ran_for_pricision)\n",
    "\n",
    "print(\"\\n\\nRecall Score of Random Forest Classifier:\")\n",
    "print(\"===========================================\\n\")\n",
    "\n",
    "ran_for_recall = round(recall_score(y_test,ran_for_predict,average='micro'),2)\n",
    "print(ran_for_recall)\n",
    "\n",
    "print(\"\\n\\nF1 Score of Random Forest Classifier:\")\n",
    "print(\"===========================================\\n\")\n",
    "\n",
    "ran_for_f1 = round(f1_score(y_test,ran_for_predict,average='weighted'),2)\n",
    "print(ran_for_f1)\n"
   ]
  },
  {
   "cell_type": "code",
   "execution_count": 29,
   "metadata": {},
   "outputs": [
    {
     "name": "stdout",
     "output_type": "stream",
     "text": [
      "              precision    recall  f1-score   support\n",
      "\n",
      "          -1       0.66      0.61      0.64       430\n",
      "           1       0.78      0.81      0.80       729\n",
      "\n",
      "    accuracy                           0.74      1159\n",
      "   macro avg       0.72      0.71      0.72      1159\n",
      "weighted avg       0.74      0.74      0.74      1159\n",
      "\n"
     ]
    }
   ],
   "source": [
    "print(classification_report(y_test, ran_for_predict))"
   ]
  },
  {
   "cell_type": "markdown",
   "metadata": {},
   "source": [
    "## Gradient Boosting Classifier"
   ]
  },
  {
   "cell_type": "code",
   "execution_count": 30,
   "metadata": {},
   "outputs": [
    {
     "name": "stdout",
     "output_type": "stream",
     "text": [
      "\n",
      "\n",
      "Accuracy Score of gb_claasifier:\n",
      "=====================================\n",
      "\n",
      "0.73\n",
      "\n",
      "precision Score of gb_claasifier:\n",
      "=====================================\n",
      "\n",
      "0.77\n",
      "\n",
      "\n",
      "Recall Score of gb_claasifier:\n",
      "=====================================\n",
      "\n",
      "0.73\n",
      "\n",
      "\n",
      "F1 Score of gb_claasifier:\n",
      "=====================================\n",
      "\n",
      "0.7\n"
     ]
    }
   ],
   "source": [
    "log_reg_predict=gb_claasifier.predict(X_test)\n",
    "\n",
    "print(\"\\n\\nAccuracy Score of gb_claasifier:\")\n",
    "print(\"=====================================\\n\")\n",
    "\n",
    "log_reg_accuracy = round(accuracy_score(y_test,log_reg_predict),2)\n",
    "print(log_reg_accuracy)\n",
    "\n",
    "print(\"\\nprecision Score of gb_claasifier:\")\n",
    "print(\"=====================================\\n\")\n",
    "\n",
    "log_reg_pre = round(precision_score(y_test,log_reg_predict,average='macro'),2)\n",
    "print(log_reg_pre)\n",
    "\n",
    "print(\"\\n\\nRecall Score of gb_claasifier:\")\n",
    "print(\"=====================================\\n\")\n",
    "\n",
    "log_reg_recal = round(recall_score(y_test,log_reg_predict,average='micro'),2)\n",
    "print(log_reg_recal)\n",
    "\n",
    "print(\"\\n\\nF1 Score of gb_claasifier:\")\n",
    "print(\"=====================================\\n\")\n",
    "\n",
    "log_reg_f1 = round(f1_score(y_test,log_reg_predict,average='weighted'),2)\n",
    "print(log_reg_f1)"
   ]
  },
  {
   "cell_type": "code",
   "execution_count": 31,
   "metadata": {},
   "outputs": [
    {
     "name": "stdout",
     "output_type": "stream",
     "text": [
      "              precision    recall  f1-score   support\n",
      "\n",
      "          -1       0.82      0.36      0.50       430\n",
      "           1       0.72      0.95      0.82       729\n",
      "\n",
      "    accuracy                           0.73      1159\n",
      "   macro avg       0.77      0.66      0.66      1159\n",
      "weighted avg       0.75      0.73      0.70      1159\n",
      "\n"
     ]
    }
   ],
   "source": [
    "print(classification_report(y_test, log_reg_predict))"
   ]
  },
  {
   "cell_type": "markdown",
   "metadata": {},
   "source": [
    "## BernoulliNB"
   ]
  },
  {
   "cell_type": "code",
   "execution_count": 32,
   "metadata": {},
   "outputs": [
    {
     "name": "stdout",
     "output_type": "stream",
     "text": [
      "\n",
      "\n",
      "Accuracy Score of BernoulliNB:\n",
      "==================================\n",
      "\n",
      "0.76\n",
      "\n",
      "\n",
      "Precision Score of BernoulliNB:\n",
      "==================================\n",
      "\n",
      "0.75\n",
      "\n",
      "\n",
      "Recall Score of BernoulliNB:\n",
      "==================================\n",
      "\n",
      "0.76\n",
      "\n",
      "\n",
      "F1 Score of BernoulliNB:\n",
      "==================================\n",
      "\n",
      "0.75\n"
     ]
    }
   ],
   "source": [
    "bernoulli_nb_predict=bernoulli_nb.predict(X_test)\n",
    "print(\"\\n\\nAccuracy Score of BernoulliNB:\")\n",
    "print(\"==================================\\n\")\n",
    "\n",
    "bernouli_accuracy = round(accuracy_score(y_test,bernoulli_nb_predict),2)\n",
    "print(bernouli_accuracy)\n",
    "\n",
    "print(\"\\n\\nPrecision Score of BernoulliNB:\")\n",
    "print(\"==================================\\n\")\n",
    "\n",
    "bernouli_pre = round(precision_score(y_test,bernoulli_nb_predict,average='macro'),2)\n",
    "print(bernouli_pre)\n",
    "\n",
    "print(\"\\n\\nRecall Score of BernoulliNB:\")\n",
    "print(\"==================================\\n\")\n",
    "\n",
    "bernouli_recal = round(recall_score(y_test,bernoulli_nb_predict,average='micro'),2)\n",
    "print(bernouli_recal)\n",
    "\n",
    "print(\"\\n\\nF1 Score of BernoulliNB:\")\n",
    "print(\"==================================\\n\")\n",
    "\n",
    "bernouli_f1 = round(f1_score(y_test,bernoulli_nb_predict,average='weighted'),2)\n",
    "print(bernouli_f1)"
   ]
  },
  {
   "cell_type": "code",
   "execution_count": 33,
   "metadata": {},
   "outputs": [
    {
     "name": "stdout",
     "output_type": "stream",
     "text": [
      "              precision    recall  f1-score   support\n",
      "\n",
      "          -1       0.71      0.59      0.64       430\n",
      "           1       0.78      0.86      0.82       729\n",
      "\n",
      "    accuracy                           0.76      1159\n",
      "   macro avg       0.75      0.72      0.73      1159\n",
      "weighted avg       0.75      0.76      0.75      1159\n",
      "\n"
     ]
    }
   ],
   "source": [
    "print(classification_report(y_test, bernoulli_nb_predict))"
   ]
  },
  {
   "cell_type": "markdown",
   "metadata": {},
   "source": [
    "## Linear SVC"
   ]
  },
  {
   "cell_type": "code",
   "execution_count": 34,
   "metadata": {},
   "outputs": [
    {
     "name": "stdout",
     "output_type": "stream",
     "text": [
      "\n",
      "\n",
      "Accuracy Score of LinearSVC:\n",
      "================================\n",
      "\n",
      "0.76\n",
      "\n",
      "precision Score of LinearSVC:\n",
      "================================\n",
      "\n",
      "0.75\n",
      "\n",
      "\n",
      "Recall Score of LinearSVC:\n",
      "================================\n",
      "\n",
      "0.76\n",
      "\n",
      "\n",
      "F1 Score of LinearSVC:\n",
      "================================\n",
      "\n",
      "0.76\n"
     ]
    }
   ],
   "source": [
    "linear_svc_predict=linear_svc.predict(X_test)\n",
    "print(\"\\n\\nAccuracy Score of LinearSVC:\")\n",
    "print(\"================================\\n\")\n",
    "\n",
    "linear_svc_accuracy = round(accuracy_score(y_test,linear_svc_predict),2)\n",
    "print(linear_svc_accuracy)\n",
    "\n",
    "print(\"\\nprecision Score of LinearSVC:\")\n",
    "print(\"================================\\n\")\n",
    "\n",
    "linear_svc_pre = round(precision_score(y_test,linear_svc_predict,average='macro'),2)\n",
    "print(linear_svc_pre)\n",
    "\n",
    "print(\"\\n\\nRecall Score of LinearSVC:\")\n",
    "print(\"================================\\n\")\n",
    "\n",
    "linear_svc_recal = round(recall_score(y_test,linear_svc_predict,average='micro'),2)\n",
    "print(linear_svc_recal)\n",
    "\n",
    "print(\"\\n\\nF1 Score of LinearSVC:\")\n",
    "print(\"================================\\n\")\n",
    "\n",
    "linear_svc_f1 = round(f1_score(y_test,linear_svc_predict,average='weighted'),2)\n",
    "print(linear_svc_f1)\n"
   ]
  },
  {
   "cell_type": "code",
   "execution_count": 35,
   "metadata": {},
   "outputs": [
    {
     "name": "stdout",
     "output_type": "stream",
     "text": [
      "              precision    recall  f1-score   support\n",
      "\n",
      "          -1       0.69      0.64      0.67       430\n",
      "           1       0.80      0.83      0.81       729\n",
      "\n",
      "    accuracy                           0.76      1159\n",
      "   macro avg       0.75      0.74      0.74      1159\n",
      "weighted avg       0.76      0.76      0.76      1159\n",
      "\n"
     ]
    }
   ],
   "source": [
    "print(classification_report(y_test, linear_svc_predict))"
   ]
  },
  {
   "cell_type": "markdown",
   "metadata": {},
   "source": [
    "# MultinomialNB"
   ]
  },
  {
   "cell_type": "code",
   "execution_count": 36,
   "metadata": {},
   "outputs": [
    {
     "name": "stdout",
     "output_type": "stream",
     "text": [
      "\n",
      "\n",
      "Accuracy Score of MultinomialNB:\n",
      "================================\n",
      "\n",
      "0.77\n",
      "\n",
      "precision Score of MultinomialNB:\n",
      "================================\n",
      "\n",
      "0.75\n",
      "\n",
      "\n",
      "Recall Score of MultinomialNB:\n",
      "================================\n",
      "\n",
      "0.77\n",
      "\n",
      "\n",
      "F1 Score of MultinomialNB:\n",
      "================================\n",
      "\n",
      "0.76\n"
     ]
    }
   ],
   "source": [
    "multi_nb_predict=multi_nb.predict(X_test)\n",
    "print(\"\\n\\nAccuracy Score of MultinomialNB:\")\n",
    "print(\"================================\\n\")\n",
    "\n",
    "multi_nb_accuracy = round(accuracy_score(y_test,multi_nb_predict),2)\n",
    "print(multi_nb_accuracy)\n",
    "\n",
    "print(\"\\nprecision Score of MultinomialNB:\")\n",
    "print(\"================================\\n\")\n",
    "\n",
    "multi_nb_pre = round(precision_score(y_test,multi_nb_predict,average='macro'),2)\n",
    "print(multi_nb_pre)\n",
    "\n",
    "print(\"\\n\\nRecall Score of MultinomialNB:\")\n",
    "print(\"================================\\n\")\n",
    "\n",
    "multi_nb_recal = round(recall_score(y_test,multi_nb_predict,average='micro'),2)\n",
    "print(multi_nb_recal)\n",
    "\n",
    "print(\"\\n\\nF1 Score of MultinomialNB:\")\n",
    "print(\"================================\\n\")\n",
    "\n",
    "multi_nb_f1 = round(f1_score(y_test,multi_nb_predict,average='weighted'),2)\n",
    "print(multi_nb_f1)\n"
   ]
  },
  {
   "cell_type": "code",
   "execution_count": 37,
   "metadata": {},
   "outputs": [
    {
     "name": "stdout",
     "output_type": "stream",
     "text": [
      "              precision    recall  f1-score   support\n",
      "\n",
      "          -1       0.70      0.65      0.67       430\n",
      "           1       0.80      0.83      0.82       729\n",
      "\n",
      "    accuracy                           0.77      1159\n",
      "   macro avg       0.75      0.74      0.75      1159\n",
      "weighted avg       0.76      0.77      0.76      1159\n",
      "\n"
     ]
    }
   ],
   "source": [
    "print(classification_report(y_test, multi_nb_predict))"
   ]
  },
  {
   "cell_type": "markdown",
   "metadata": {},
   "source": [
    "# Selection of Best Model"
   ]
  },
  {
   "cell_type": "code",
   "execution_count": 38,
   "metadata": {},
   "outputs": [
    {
     "name": "stdout",
     "output_type": "stream",
     "text": [
      "\n",
      "\n",
      "Detailed Performance of all the models:\n",
      "=======================================\n",
      "\n",
      "+----------------------------+----------+-----------+--------+----------+\n",
      "|           Model            | Accuracy | Precision | Recall | F1_score |\n",
      "+----------------------------+----------+-----------+--------+----------+\n",
      "|   RandomForestClassifier   |   0.74   |    0.72   |  0.74  |   0.74   |\n",
      "| GradientBoostingClassifier |   0.73   |    0.77   |  0.73  |   0.7    |\n",
      "|        BernoulliNB         |   0.76   |    0.75   |  0.76  |   0.75   |\n",
      "|         LinearSVC          |   0.76   |    0.75   |  0.76  |   0.76   |\n",
      "|       MultinomialNB        |   0.77   |    0.75   |  0.77  |   0.76   |\n",
      "+----------------------------+----------+-----------+--------+----------+\n",
      "\n",
      "\n",
      "Best Model:\n",
      "===========\n",
      "\n",
      "+---------------+----------+-----------+--------+----------+\n",
      "|     Model     | Accuracy | Precision | Recall | f1_score |\n",
      "+---------------+----------+-----------+--------+----------+\n",
      "| MultinomialNB |   0.77   |    0.75   |  0.77  |   0.76   |\n",
      "+---------------+----------+-----------+--------+----------+\n"
     ]
    }
   ],
   "source": [
    "pretty_table = PrettyTable(['Model', 'Accuracy','Precision', 'Recall','F1_score'])\n",
    "pretty_table.add_row(['RandomForestClassifier', ran_for_accuracy,ran_for_pricision,ran_for_recall,ran_for_f1])\n",
    "pretty_table.add_row(['GradientBoostingClassifier', log_reg_accuracy,log_reg_pre,log_reg_recal,log_reg_f1])\n",
    "pretty_table.add_row(['BernoulliNB', bernouli_accuracy,bernouli_pre,bernouli_recal,bernouli_f1])\n",
    "pretty_table.add_row(['LinearSVC', linear_svc_accuracy,linear_svc_pre,linear_svc_recal,linear_svc_f1])\n",
    "pretty_table.add_row(['MultinomialNB', multi_nb_accuracy,multi_nb_pre,multi_nb_recal,multi_nb_f1])\n",
    "print(\"\\n\\nDetailed Performance of all the models:\")\n",
    "print(\"=======================================\\n\")\n",
    "print(pretty_table)\n",
    "\n",
    "maximum_accuracy=max([ran_for_accuracy,log_reg_accuracy,bernouli_accuracy,linear_svc_accuracy, multi_nb_accuracy])\n",
    "\n",
    "\n",
    "pretty_table_best=PrettyTable(['Model', 'Accuracy','Precision','Recall','f1_score'])\n",
    "\n",
    "if ran_for_accuracy==maximum_accuracy:\n",
    "    pretty_table_best.add_row(['Random Forest Classifier',ran_for_accuracy,ran_for_pricision,ran_for_recall,ran_for_f1])\n",
    "    \n",
    "elif log_reg_accuracy==maximum_accuracy:\n",
    "    pretty_table_best.add_row(['GradientBoostingClassifier',log_reg_accuracy,log_reg_pre,log_reg_recal,log_reg_f1])\n",
    "    \n",
    "elif bernouli_accuracy==maximum_accuracy:\n",
    "    pretty_table_best.add_row(['BernoulliNB',bernouli_accuracy,bernouli_pre,bernouli_recal,bernouli_f1])\n",
    "    \n",
    "elif linear_svc_accuracy==maximum_accuracy:\n",
    "    pretty_table_best.add_row(['LinearSVC',linear_svc_accuracy,linear_svc_pre,linear_svc_recal,linear_svc_f1])\n",
    "    \n",
    "elif multi_nb_accuracy==maximum_accuracy:\n",
    "    pretty_table_best.add_row(['MultinomialNB',multi_nb_accuracy,multi_nb_pre,multi_nb_recal,multi_nb_f1])\n",
    "    \n",
    "print(\"\\n\\nBest Model:\")\n",
    "print(\"===========\\n\")\n",
    "print(pretty_table_best)\n"
   ]
  },
  {
   "cell_type": "markdown",
   "metadata": {},
   "source": [
    "# Method 2: Feature Extraction using Term Frequency-Inverse Document Frequency (TF-IDF) Method (Converting Input to Numerical Representation)"
   ]
  },
  {
   "cell_type": "markdown",
   "metadata": {},
   "source": [
    "In Natural Language Processing, Feature Extraction is one of the most important steps to be followed for a better understanding of the context of what we are dealing with. After the initial text is cleaned, we need to transform it into its features to be used for modeling.\n",
    "\n",
    "    Term Frequency-Inverse Document Frequency (TF-IDF) is a widely used technique in natural language processing (NLP) that evaluates the significance of words within a document relative to their occurrence across a collection of documents. TF-IDF measures are utilized to represent words in a numerical format, making them suitable for various text analysis tasks, including sentiment analysis and trend identification in financial data.\n"
   ]
  },
  {
   "cell_type": "code",
   "execution_count": 39,
   "metadata": {},
   "outputs": [],
   "source": [
    "''' \n",
    "    /*----------------------------- FEATURE_EXTRACTION ----------------\n",
    "    | Function  : TFIDFVectorizer()\n",
    "    | Purpose   : Transform Input (Text) into Numerical Representation \n",
    "    | Arguments : \n",
    "    |       Text: Input Text\n",
    "    | Return    :\n",
    "    |   Features: Numerical Representation\n",
    "    *-----------------------------------------------------------------*/\n",
    "'''\n",
    "\n",
    "# Initialize the TFIDF Vectorizer \n",
    "count_vectorizer = TfidfVectorizer(\n",
    "        analyzer = 'word',    # Word n-grams Generation\n",
    "        strip_accents='unicode',\n",
    "        token_pattern = r'\\w{2,}',  #vectorize 2-character words or more\n",
    "        ngram_range = (1,1),  # Word bi-grams Feeatures\n",
    "        max_features = 3000) # Extract 5000 Features \n",
    "train_text = preprocessed_training_data['Text']\n",
    "\n",
    "# Fit the Tfidf Vectorizer on Input Text of Training Data\n",
    "count_vectorizer = count_vectorizer.fit(train_text)\n"
   ]
  },
  {
   "cell_type": "code",
   "execution_count": 40,
   "metadata": {},
   "outputs": [
    {
     "name": "stdout",
     "output_type": "stream",
     "text": [
      "\n",
      "Document Features Matrix of Training Data :\n",
      "============================================\n",
      "\n"
     ]
    },
    {
     "data": {
      "text/html": [
       "<div>\n",
       "<style scoped>\n",
       "    .dataframe tbody tr th:only-of-type {\n",
       "        vertical-align: middle;\n",
       "    }\n",
       "\n",
       "    .dataframe tbody tr th {\n",
       "        vertical-align: top;\n",
       "    }\n",
       "\n",
       "    .dataframe thead th {\n",
       "        text-align: right;\n",
       "    }\n",
       "</style>\n",
       "<table border=\"1\" class=\"dataframe\">\n",
       "  <thead>\n",
       "    <tr style=\"text-align: right;\">\n",
       "      <th></th>\n",
       "      <th>aa</th>\n",
       "      <th>aap</th>\n",
       "      <th>aapl</th>\n",
       "      <th>aaps</th>\n",
       "      <th>abbott</th>\n",
       "      <th>abcd</th>\n",
       "      <th>able</th>\n",
       "      <th>absolutely</th>\n",
       "      <th>abt</th>\n",
       "      <th>abx</th>\n",
       "      <th>...</th>\n",
       "      <th>zero</th>\n",
       "      <th>zgnx</th>\n",
       "      <th>zillow</th>\n",
       "      <th>zion</th>\n",
       "      <th>ziop</th>\n",
       "      <th>znga</th>\n",
       "      <th>zone</th>\n",
       "      <th>zoom</th>\n",
       "      <th>zot</th>\n",
       "      <th>zynga</th>\n",
       "    </tr>\n",
       "  </thead>\n",
       "  <tbody>\n",
       "    <tr>\n",
       "      <th>0</th>\n",
       "      <td>0.0</td>\n",
       "      <td>0.00</td>\n",
       "      <td>0.0</td>\n",
       "      <td>0.0</td>\n",
       "      <td>0.0</td>\n",
       "      <td>0.0</td>\n",
       "      <td>0.0</td>\n",
       "      <td>0.0</td>\n",
       "      <td>0.0</td>\n",
       "      <td>0.0</td>\n",
       "      <td>...</td>\n",
       "      <td>0.0</td>\n",
       "      <td>0.0</td>\n",
       "      <td>0.0</td>\n",
       "      <td>0.0</td>\n",
       "      <td>0.0</td>\n",
       "      <td>0.0</td>\n",
       "      <td>0.0</td>\n",
       "      <td>0.0</td>\n",
       "      <td>0.0</td>\n",
       "      <td>0.0</td>\n",
       "    </tr>\n",
       "    <tr>\n",
       "      <th>1</th>\n",
       "      <td>0.0</td>\n",
       "      <td>0.16</td>\n",
       "      <td>0.0</td>\n",
       "      <td>0.0</td>\n",
       "      <td>0.0</td>\n",
       "      <td>0.0</td>\n",
       "      <td>0.0</td>\n",
       "      <td>0.0</td>\n",
       "      <td>0.0</td>\n",
       "      <td>0.0</td>\n",
       "      <td>...</td>\n",
       "      <td>0.0</td>\n",
       "      <td>0.0</td>\n",
       "      <td>0.0</td>\n",
       "      <td>0.0</td>\n",
       "      <td>0.0</td>\n",
       "      <td>0.0</td>\n",
       "      <td>0.0</td>\n",
       "      <td>0.0</td>\n",
       "      <td>0.0</td>\n",
       "      <td>0.0</td>\n",
       "    </tr>\n",
       "    <tr>\n",
       "      <th>2</th>\n",
       "      <td>0.0</td>\n",
       "      <td>0.00</td>\n",
       "      <td>0.0</td>\n",
       "      <td>0.0</td>\n",
       "      <td>0.0</td>\n",
       "      <td>0.0</td>\n",
       "      <td>0.0</td>\n",
       "      <td>0.0</td>\n",
       "      <td>0.0</td>\n",
       "      <td>0.0</td>\n",
       "      <td>...</td>\n",
       "      <td>0.0</td>\n",
       "      <td>0.0</td>\n",
       "      <td>0.0</td>\n",
       "      <td>0.0</td>\n",
       "      <td>0.0</td>\n",
       "      <td>0.0</td>\n",
       "      <td>0.0</td>\n",
       "      <td>0.0</td>\n",
       "      <td>0.0</td>\n",
       "      <td>0.0</td>\n",
       "    </tr>\n",
       "    <tr>\n",
       "      <th>3</th>\n",
       "      <td>0.0</td>\n",
       "      <td>0.00</td>\n",
       "      <td>0.0</td>\n",
       "      <td>0.0</td>\n",
       "      <td>0.0</td>\n",
       "      <td>0.0</td>\n",
       "      <td>0.0</td>\n",
       "      <td>0.0</td>\n",
       "      <td>0.0</td>\n",
       "      <td>0.0</td>\n",
       "      <td>...</td>\n",
       "      <td>0.0</td>\n",
       "      <td>0.0</td>\n",
       "      <td>0.0</td>\n",
       "      <td>0.0</td>\n",
       "      <td>0.0</td>\n",
       "      <td>0.0</td>\n",
       "      <td>0.0</td>\n",
       "      <td>0.0</td>\n",
       "      <td>0.0</td>\n",
       "      <td>0.0</td>\n",
       "    </tr>\n",
       "    <tr>\n",
       "      <th>4</th>\n",
       "      <td>0.0</td>\n",
       "      <td>0.00</td>\n",
       "      <td>0.0</td>\n",
       "      <td>0.0</td>\n",
       "      <td>0.0</td>\n",
       "      <td>0.0</td>\n",
       "      <td>0.0</td>\n",
       "      <td>0.0</td>\n",
       "      <td>0.0</td>\n",
       "      <td>0.0</td>\n",
       "      <td>...</td>\n",
       "      <td>0.0</td>\n",
       "      <td>0.0</td>\n",
       "      <td>0.0</td>\n",
       "      <td>0.0</td>\n",
       "      <td>0.0</td>\n",
       "      <td>0.0</td>\n",
       "      <td>0.0</td>\n",
       "      <td>0.0</td>\n",
       "      <td>0.0</td>\n",
       "      <td>0.0</td>\n",
       "    </tr>\n",
       "  </tbody>\n",
       "</table>\n",
       "<p>5 rows × 3000 columns</p>\n",
       "</div>"
      ],
      "text/plain": [
       "    aa   aap  aapl  aaps  abbott  abcd  able  absolutely  abt  abx  ...  zero  \\\n",
       "0  0.0  0.00   0.0   0.0     0.0   0.0   0.0         0.0  0.0  0.0  ...   0.0   \n",
       "1  0.0  0.16   0.0   0.0     0.0   0.0   0.0         0.0  0.0  0.0  ...   0.0   \n",
       "2  0.0  0.00   0.0   0.0     0.0   0.0   0.0         0.0  0.0  0.0  ...   0.0   \n",
       "3  0.0  0.00   0.0   0.0     0.0   0.0   0.0         0.0  0.0  0.0  ...   0.0   \n",
       "4  0.0  0.00   0.0   0.0     0.0   0.0   0.0         0.0  0.0  0.0  ...   0.0   \n",
       "\n",
       "   zgnx  zillow  zion  ziop  znga  zone  zoom  zot  zynga  \n",
       "0   0.0     0.0   0.0   0.0   0.0   0.0   0.0  0.0    0.0  \n",
       "1   0.0     0.0   0.0   0.0   0.0   0.0   0.0  0.0    0.0  \n",
       "2   0.0     0.0   0.0   0.0   0.0   0.0   0.0  0.0    0.0  \n",
       "3   0.0     0.0   0.0   0.0   0.0   0.0   0.0  0.0    0.0  \n",
       "4   0.0     0.0   0.0   0.0   0.0   0.0   0.0  0.0    0.0  \n",
       "\n",
       "[5 rows x 3000 columns]"
      ]
     },
     "execution_count": 40,
     "metadata": {},
     "output_type": "execute_result"
    }
   ],
   "source": [
    "# Transform the Input Text of Training Data using Trained Tfidf Vectorizer\n",
    "train_feature_vectors = count_vectorizer.transform(train_text)\n",
    "train_feature_vectors = train_feature_vectors.todense()\n",
    "\n",
    "# Get the name of Features (Feature  Set) and create a DataFrame of Input Features\n",
    "input_training_features = pd.DataFrame(train_feature_vectors, columns = count_vectorizer.get_feature_names_out())\n",
    "input_training_features = input_training_features.round(2)\n",
    "\n",
    "# Display the Document Feature Matrix of Training Data\n",
    "print(\"\\nDocument Features Matrix of Training Data :\")\n",
    "print(\"============================================\\n\")\n",
    "#input_training_features = input_training_features.round(2)\n",
    "input_training_features.head()"
   ]
  },
  {
   "cell_type": "code",
   "execution_count": 41,
   "metadata": {},
   "outputs": [
    {
     "name": "stdout",
     "output_type": "stream",
     "text": [
      "\n",
      "Output of Training Data:\n",
      "========================\n",
      "\n"
     ]
    },
    {
     "data": {
      "text/html": [
       "<div>\n",
       "<style scoped>\n",
       "    .dataframe tbody tr th:only-of-type {\n",
       "        vertical-align: middle;\n",
       "    }\n",
       "\n",
       "    .dataframe tbody tr th {\n",
       "        vertical-align: top;\n",
       "    }\n",
       "\n",
       "    .dataframe thead th {\n",
       "        text-align: right;\n",
       "    }\n",
       "</style>\n",
       "<table border=\"1\" class=\"dataframe\">\n",
       "  <thead>\n",
       "    <tr style=\"text-align: right;\">\n",
       "      <th></th>\n",
       "      <th>Sentiment</th>\n",
       "    </tr>\n",
       "  </thead>\n",
       "  <tbody>\n",
       "    <tr>\n",
       "      <th>0</th>\n",
       "      <td>1</td>\n",
       "    </tr>\n",
       "    <tr>\n",
       "      <th>1</th>\n",
       "      <td>1</td>\n",
       "    </tr>\n",
       "    <tr>\n",
       "      <th>2</th>\n",
       "      <td>1</td>\n",
       "    </tr>\n",
       "    <tr>\n",
       "      <th>3</th>\n",
       "      <td>1</td>\n",
       "    </tr>\n",
       "    <tr>\n",
       "      <th>4</th>\n",
       "      <td>1</td>\n",
       "    </tr>\n",
       "  </tbody>\n",
       "</table>\n",
       "</div>"
      ],
      "text/plain": [
       "   Sentiment\n",
       "0          1\n",
       "1          1\n",
       "2          1\n",
       "3          1\n",
       "4          1"
      ]
     },
     "execution_count": 41,
     "metadata": {},
     "output_type": "execute_result"
    }
   ],
   "source": [
    "''' \n",
    "    /*------------- SPLITTING_TRAINING_DATA_OUTPUTS/LABELS -------------\n",
    "'''\n",
    "\n",
    "# Split the Training Data Outputs / Labels and Create a DataFrame\n",
    "\n",
    "training_data_output = pd.DataFrame(preprocessed_training_data.iloc[: , 1])\n",
    "\n",
    "# Output Label Gender of Training Data\n",
    "print(\"\\nOutput of Training Data:\")\n",
    "print(\"========================\\n\")\n",
    "training_data_output.head()"
   ]
  },
  {
   "cell_type": "code",
   "execution_count": 42,
   "metadata": {},
   "outputs": [],
   "source": [
    "from sklearn.model_selection import train_test_split\n",
    "\n",
    "X = input_training_features\n",
    "y = training_data_output\n",
    "\n",
    "X_train, X_test, y_train, y_test =train_test_split(X, y, test_size=0.2, random_state=2020)"
   ]
  },
  {
   "cell_type": "markdown",
   "metadata": {},
   "source": [
    "# Random Forest"
   ]
  },
  {
   "cell_type": "code",
   "execution_count": 43,
   "metadata": {},
   "outputs": [
    {
     "name": "stdout",
     "output_type": "stream",
     "text": [
      "Parameters and their values:\n",
      "============================\n",
      "\n",
      "RandomForestClassifier(n_estimators=5, random_state=0)\n"
     ]
    }
   ],
   "source": [
    "random_forest_classifier = RandomForestClassifier(n_estimators=5, random_state=0)\n",
    "random_forest = random_forest_classifier.fit(X_train,np.ravel(y_train))\n",
    "\n",
    "print(\"Parameters and their values:\")\n",
    "print(\"============================\\n\")\n",
    "print(random_forest)"
   ]
  },
  {
   "cell_type": "code",
   "execution_count": 44,
   "metadata": {},
   "outputs": [
    {
     "name": "stdout",
     "output_type": "stream",
     "text": [
      "\n",
      "\n",
      "Accuracy Score of Random Forest Classifier:\n",
      "===========================================\n",
      "\n",
      "0.75\n",
      "\n",
      "\n",
      "Precision Score of Random Forest Classifier:\n",
      "===========================================\n",
      "\n",
      "0.73\n",
      "\n",
      "\n",
      "Recall Score of Random Forest Classifier:\n",
      "===========================================\n",
      "\n",
      "0.75\n",
      "\n",
      "\n",
      "F1 Score of Random Forest Classifier:\n",
      "===========================================\n",
      "\n",
      "0.75\n"
     ]
    }
   ],
   "source": [
    "ran_for_predict=random_forest_classifier.predict(X_test)\n",
    "print(\"\\n\\nAccuracy Score of Random Forest Classifier:\")\n",
    "print(\"===========================================\\n\")\n",
    "\n",
    "ran_for_accuracy = round(accuracy_score(y_test,ran_for_predict),2)\n",
    "print(ran_for_accuracy)\n",
    "\n",
    "print(\"\\n\\nPrecision Score of Random Forest Classifier:\")\n",
    "print(\"===========================================\\n\")\n",
    "\n",
    "ran_for_pricision = round(precision_score(y_test,ran_for_predict,average='macro'),2)\n",
    "print(ran_for_pricision)\n",
    "\n",
    "print(\"\\n\\nRecall Score of Random Forest Classifier:\")\n",
    "print(\"===========================================\\n\")\n",
    "\n",
    "ran_for_recall = round(recall_score(y_test,ran_for_predict,average='micro'),2)\n",
    "print(ran_for_recall)\n",
    "\n",
    "print(\"\\n\\nF1 Score of Random Forest Classifier:\")\n",
    "print(\"===========================================\\n\")\n",
    "\n",
    "ran_for_f1 = round(f1_score(y_test,ran_for_predict,average='weighted'),2)\n",
    "print(ran_for_f1)\n"
   ]
  },
  {
   "cell_type": "code",
   "execution_count": 45,
   "metadata": {},
   "outputs": [
    {
     "name": "stdout",
     "output_type": "stream",
     "text": [
      "              precision    recall  f1-score   support\n",
      "\n",
      "          -1       0.67      0.64      0.65       430\n",
      "           1       0.79      0.81      0.80       729\n",
      "\n",
      "    accuracy                           0.75      1159\n",
      "   macro avg       0.73      0.73      0.73      1159\n",
      "weighted avg       0.75      0.75      0.75      1159\n",
      "\n"
     ]
    }
   ],
   "source": [
    "print(classification_report(y_test, ran_for_predict))"
   ]
  },
  {
   "cell_type": "markdown",
   "metadata": {},
   "source": [
    "# Gradient Boosting"
   ]
  },
  {
   "cell_type": "code",
   "execution_count": 46,
   "metadata": {},
   "outputs": [
    {
     "name": "stdout",
     "output_type": "stream",
     "text": [
      "Parameters and their values:\n",
      "============================\n",
      "\n",
      "GradientBoostingClassifier()\n"
     ]
    }
   ],
   "source": [
    "from sklearn.ensemble import GradientBoostingClassifier\n",
    "gb_claasifier = GradientBoostingClassifier()\n",
    "gb_claasifier = gb_claasifier.fit(X_train,np.ravel(y_train))\n",
    "\n",
    "print(\"Parameters and their values:\")\n",
    "print(\"============================\\n\")\n",
    "print(gb_claasifier)"
   ]
  },
  {
   "cell_type": "code",
   "execution_count": 47,
   "metadata": {},
   "outputs": [
    {
     "name": "stdout",
     "output_type": "stream",
     "text": [
      "\n",
      "\n",
      "Accuracy Score of gb_claasifier:\n",
      "=====================================\n",
      "\n",
      "0.73\n",
      "\n",
      "precision Score of gb_claasifier:\n",
      "=====================================\n",
      "\n",
      "0.75\n",
      "\n",
      "\n",
      "Recall Score of gb_claasifier:\n",
      "=====================================\n",
      "\n",
      "0.73\n",
      "\n",
      "\n",
      "F1 Score of gb_claasifier:\n",
      "=====================================\n",
      "\n",
      "0.7\n"
     ]
    }
   ],
   "source": [
    "log_reg_predict=gb_claasifier.predict(X_test)\n",
    "\n",
    "print(\"\\n\\nAccuracy Score of gb_claasifier:\")\n",
    "print(\"=====================================\\n\")\n",
    "\n",
    "log_reg_accuracy = round(accuracy_score(y_test,log_reg_predict),2)\n",
    "print(log_reg_accuracy)\n",
    "\n",
    "print(\"\\nprecision Score of gb_claasifier:\")\n",
    "print(\"=====================================\\n\")\n",
    "\n",
    "log_reg_pre = round(precision_score(y_test,log_reg_predict,average='macro'),2)\n",
    "print(log_reg_pre)\n",
    "\n",
    "print(\"\\n\\nRecall Score of gb_claasifier:\")\n",
    "print(\"=====================================\\n\")\n",
    "\n",
    "log_reg_recal = round(recall_score(y_test,log_reg_predict,average='micro'),2)\n",
    "print(log_reg_recal)\n",
    "\n",
    "print(\"\\n\\nF1 Score of gb_claasifier:\")\n",
    "print(\"=====================================\\n\")\n",
    "\n",
    "log_reg_f1 = round(f1_score(y_test,log_reg_predict,average='weighted'),2)\n",
    "print(log_reg_f1)"
   ]
  },
  {
   "cell_type": "code",
   "execution_count": 48,
   "metadata": {},
   "outputs": [
    {
     "name": "stdout",
     "output_type": "stream",
     "text": [
      "              precision    recall  f1-score   support\n",
      "\n",
      "          -1       0.78      0.37      0.50       430\n",
      "           1       0.72      0.94      0.81       729\n",
      "\n",
      "    accuracy                           0.73      1159\n",
      "   macro avg       0.75      0.65      0.65      1159\n",
      "weighted avg       0.74      0.73      0.70      1159\n",
      "\n"
     ]
    }
   ],
   "source": [
    "print(classification_report(y_test, log_reg_predict))"
   ]
  },
  {
   "cell_type": "markdown",
   "metadata": {},
   "source": [
    "# Linear SVC"
   ]
  },
  {
   "cell_type": "code",
   "execution_count": 49,
   "metadata": {},
   "outputs": [
    {
     "name": "stdout",
     "output_type": "stream",
     "text": [
      "Parameters and their values:\n",
      "============================\n",
      "\n",
      "LinearSVC()\n"
     ]
    }
   ],
   "source": [
    "linear_svc = LinearSVC()\n",
    "linearsvc = linear_svc.fit(X_train,np.ravel(y_train))\n",
    "\n",
    "print(\"Parameters and their values:\")\n",
    "print(\"============================\\n\")\n",
    "print(linearsvc)"
   ]
  },
  {
   "cell_type": "code",
   "execution_count": 50,
   "metadata": {},
   "outputs": [
    {
     "name": "stdout",
     "output_type": "stream",
     "text": [
      "\n",
      "\n",
      "Accuracy Score of LinearSVC:\n",
      "================================\n",
      "\n",
      "0.78\n",
      "\n",
      "precision Score of LinearSVC:\n",
      "================================\n",
      "\n",
      "0.77\n",
      "\n",
      "\n",
      "Recall Score of LinearSVC:\n",
      "================================\n",
      "\n",
      "0.78\n",
      "\n",
      "\n",
      "F1 Score of LinearSVC:\n",
      "================================\n",
      "\n",
      "0.78\n"
     ]
    }
   ],
   "source": [
    "linear_svc_predict=linear_svc.predict(X_test)\n",
    "print(\"\\n\\nAccuracy Score of LinearSVC:\")\n",
    "print(\"================================\\n\")\n",
    "\n",
    "linear_svc_accuracy = round(accuracy_score(y_test,linear_svc_predict),2)\n",
    "print(linear_svc_accuracy)\n",
    "\n",
    "print(\"\\nprecision Score of LinearSVC:\")\n",
    "print(\"================================\\n\")\n",
    "\n",
    "linear_svc_pre = round(precision_score(y_test,linear_svc_predict,average='macro'),2)\n",
    "print(linear_svc_pre)\n",
    "\n",
    "print(\"\\n\\nRecall Score of LinearSVC:\")\n",
    "print(\"================================\\n\")\n",
    "\n",
    "linear_svc_recal = round(recall_score(y_test,linear_svc_predict,average='micro'),2)\n",
    "print(linear_svc_recal)\n",
    "\n",
    "print(\"\\n\\nF1 Score of LinearSVC:\")\n",
    "print(\"================================\\n\")\n",
    "\n",
    "linear_svc_f1 = round(f1_score(y_test,linear_svc_predict,average='weighted'),2)\n",
    "print(linear_svc_f1)\n"
   ]
  },
  {
   "cell_type": "code",
   "execution_count": 51,
   "metadata": {},
   "outputs": [
    {
     "name": "stdout",
     "output_type": "stream",
     "text": [
      "              precision    recall  f1-score   support\n",
      "\n",
      "          -1       0.74      0.63      0.68       430\n",
      "           1       0.80      0.87      0.83       729\n",
      "\n",
      "    accuracy                           0.78      1159\n",
      "   macro avg       0.77      0.75      0.76      1159\n",
      "weighted avg       0.78      0.78      0.78      1159\n",
      "\n"
     ]
    }
   ],
   "source": [
    "print(classification_report(y_test, linear_svc_predict))"
   ]
  },
  {
   "cell_type": "markdown",
   "metadata": {},
   "source": [
    "# BernoulliNB"
   ]
  },
  {
   "cell_type": "code",
   "execution_count": 52,
   "metadata": {},
   "outputs": [
    {
     "name": "stdout",
     "output_type": "stream",
     "text": [
      "Parameters and their values:\n",
      "============================\n",
      "\n",
      "BernoulliNB()\n"
     ]
    }
   ],
   "source": [
    "bernoulli_nb = BernoulliNB()\n",
    "ber_nb = bernoulli_nb.fit(X_train,np.ravel(y_train))\n",
    "\n",
    "print(\"Parameters and their values:\")\n",
    "print(\"============================\\n\")\n",
    "print(ber_nb)"
   ]
  },
  {
   "cell_type": "code",
   "execution_count": 53,
   "metadata": {},
   "outputs": [
    {
     "name": "stdout",
     "output_type": "stream",
     "text": [
      "\n",
      "\n",
      "Accuracy Score of BernoulliNB:\n",
      "==================================\n",
      "\n",
      "0.76\n",
      "\n",
      "\n",
      "Precision Score of BernoulliNB:\n",
      "==================================\n",
      "\n",
      "0.75\n",
      "\n",
      "\n",
      "Recall Score of BernoulliNB:\n",
      "==================================\n",
      "\n",
      "0.76\n",
      "\n",
      "\n",
      "F1 Score of BernoulliNB:\n",
      "==================================\n",
      "\n",
      "0.76\n"
     ]
    }
   ],
   "source": [
    "bernoulli_nb_predict=bernoulli_nb.predict(X_test)\n",
    "print(\"\\n\\nAccuracy Score of BernoulliNB:\")\n",
    "print(\"==================================\\n\")\n",
    "\n",
    "bernouli_accuracy = round(accuracy_score(y_test,bernoulli_nb_predict),2)\n",
    "print(bernouli_accuracy)\n",
    "\n",
    "print(\"\\n\\nPrecision Score of BernoulliNB:\")\n",
    "print(\"==================================\\n\")\n",
    "\n",
    "bernouli_pre = round(precision_score(y_test,bernoulli_nb_predict,average='macro'),2)\n",
    "print(bernouli_pre)\n",
    "\n",
    "print(\"\\n\\nRecall Score of BernoulliNB:\")\n",
    "print(\"==================================\\n\")\n",
    "\n",
    "bernouli_recal = round(recall_score(y_test,bernoulli_nb_predict,average='micro'),2)\n",
    "print(bernouli_recal)\n",
    "\n",
    "print(\"\\n\\nF1 Score of BernoulliNB:\")\n",
    "print(\"==================================\\n\")\n",
    "\n",
    "bernouli_f1 = round(f1_score(y_test,bernoulli_nb_predict,average='weighted'),2)\n",
    "print(bernouli_f1)"
   ]
  },
  {
   "cell_type": "code",
   "execution_count": 54,
   "metadata": {},
   "outputs": [
    {
     "name": "stdout",
     "output_type": "stream",
     "text": [
      "              precision    recall  f1-score   support\n",
      "\n",
      "          -1       0.70      0.63      0.66       430\n",
      "           1       0.79      0.84      0.82       729\n",
      "\n",
      "    accuracy                           0.76      1159\n",
      "   macro avg       0.75      0.73      0.74      1159\n",
      "weighted avg       0.76      0.76      0.76      1159\n",
      "\n"
     ]
    }
   ],
   "source": [
    "print(classification_report(y_test, bernoulli_nb_predict))"
   ]
  },
  {
   "cell_type": "markdown",
   "metadata": {},
   "source": [
    "# MultinomialNB"
   ]
  },
  {
   "cell_type": "code",
   "execution_count": 55,
   "metadata": {},
   "outputs": [
    {
     "name": "stdout",
     "output_type": "stream",
     "text": [
      "Parameters and their values:\n",
      "============================\n",
      "\n",
      "MultinomialNB()\n"
     ]
    }
   ],
   "source": [
    "from sklearn.naive_bayes import MultinomialNB\n",
    "multi_nb = MultinomialNB()\n",
    "multi_nb = multi_nb.fit(X_train,np.ravel(y_train))\n",
    "\n",
    "print(\"Parameters and their values:\")\n",
    "print(\"============================\\n\")\n",
    "print(multi_nb)"
   ]
  },
  {
   "cell_type": "code",
   "execution_count": 62,
   "metadata": {},
   "outputs": [
    {
     "name": "stdout",
     "output_type": "stream",
     "text": [
      "\n",
      "\n",
      "Accuracy Score of MultinomialNB:\n",
      "================================\n",
      "\n",
      "0.75\n",
      "\n",
      "precision Score of MultinomialNB:\n",
      "================================\n",
      "\n",
      "0.76\n",
      "\n",
      "\n",
      "Recall Score of MultinomialNB:\n",
      "================================\n",
      "\n",
      "0.75\n",
      "\n",
      "\n",
      "F1 Score of MultinomialNB:\n",
      "================================\n",
      "\n",
      "0.74\n"
     ]
    }
   ],
   "source": [
    "multi_nb_predict=multi_nb.predict(X_test)\n",
    "print(\"\\n\\nAccuracy Score of MultinomialNB:\")\n",
    "print(\"================================\\n\")\n",
    "\n",
    "multi_nb_accuracy = round(accuracy_score(y_test,multi_nb_predict),2)\n",
    "print(multi_nb_accuracy)\n",
    "\n",
    "print(\"\\nprecision Score of MultinomialNB:\")\n",
    "print(\"================================\\n\")\n",
    "\n",
    "multi_nb_pre = round(precision_score(y_test,multi_nb_predict,average='macro'),2)\n",
    "print(multi_nb_pre)\n",
    "\n",
    "print(\"\\n\\nRecall Score of MultinomialNB:\")\n",
    "print(\"================================\\n\")\n",
    "\n",
    "multi_nb_recal = round(recall_score(y_test,multi_nb_predict,average='micro'),2)\n",
    "print(multi_nb_recal)\n",
    "\n",
    "print(\"\\n\\nF1 Score of MultinomialNB:\")\n",
    "print(\"================================\\n\")\n",
    "\n",
    "multi_nb_f1 = round(f1_score(y_test,multi_nb_predict,average='weighted'),2)\n",
    "print(multi_nb_f1)\n"
   ]
  },
  {
   "cell_type": "code",
   "execution_count": 63,
   "metadata": {},
   "outputs": [
    {
     "name": "stdout",
     "output_type": "stream",
     "text": [
      "              precision    recall  f1-score   support\n",
      "\n",
      "          -1       0.76      0.48      0.59       430\n",
      "           1       0.75      0.91      0.82       729\n",
      "\n",
      "    accuracy                           0.75      1159\n",
      "   macro avg       0.76      0.70      0.71      1159\n",
      "weighted avg       0.75      0.75      0.74      1159\n",
      "\n"
     ]
    }
   ],
   "source": [
    "print(classification_report(y_test, multi_nb_predict))"
   ]
  },
  {
   "cell_type": "markdown",
   "metadata": {},
   "source": [
    "# Best Results"
   ]
  },
  {
   "cell_type": "code",
   "execution_count": 64,
   "metadata": {},
   "outputs": [
    {
     "name": "stdout",
     "output_type": "stream",
     "text": [
      "\n",
      "\n",
      "Detailed Performance of all the models:\n",
      "=======================================\n",
      "\n",
      "+----------------------------+----------+-----------+--------+----------+\n",
      "|           Model            | Accuracy | Precision | Recall | F1_score |\n",
      "+----------------------------+----------+-----------+--------+----------+\n",
      "|   RandomForestClassifier   |   0.75   |    0.73   |  0.75  |   0.75   |\n",
      "| GradientBoostingClassifier |   0.73   |    0.75   |  0.73  |   0.7    |\n",
      "|        BernoulliNB         |   0.76   |    0.75   |  0.76  |   0.76   |\n",
      "|         LinearSVC          |   0.78   |    0.77   |  0.78  |   0.78   |\n",
      "|       MultinomialNB        |   0.75   |    0.76   |  0.75  |   0.74   |\n",
      "+----------------------------+----------+-----------+--------+----------+\n",
      "\n",
      "\n",
      "Best Model:\n",
      "===========\n",
      "\n",
      "+-----------+----------+-----------+--------+----------+\n",
      "|   Model   | Accuracy | Precision | Recall | f1_score |\n",
      "+-----------+----------+-----------+--------+----------+\n",
      "| LinearSVC |   0.78   |    0.77   |  0.78  |   0.78   |\n",
      "+-----------+----------+-----------+--------+----------+\n"
     ]
    }
   ],
   "source": [
    "pretty_table = PrettyTable(['Model', 'Accuracy','Precision', 'Recall','F1_score'])\n",
    "pretty_table.add_row(['RandomForestClassifier', ran_for_accuracy,ran_for_pricision,ran_for_recall,ran_for_f1])\n",
    "pretty_table.add_row(['GradientBoostingClassifier', log_reg_accuracy,log_reg_pre,log_reg_recal,log_reg_f1])\n",
    "pretty_table.add_row(['BernoulliNB', bernouli_accuracy,bernouli_pre,bernouli_recal,bernouli_f1])\n",
    "pretty_table.add_row(['LinearSVC', linear_svc_accuracy,linear_svc_pre,linear_svc_recal,linear_svc_f1])\n",
    "pretty_table.add_row(['MultinomialNB', multi_nb_accuracy,multi_nb_pre,multi_nb_recal,multi_nb_f1])\n",
    "print(\"\\n\\nDetailed Performance of all the models:\")\n",
    "print(\"=======================================\\n\")\n",
    "print(pretty_table)\n",
    "\n",
    "maximum_accuracy=max([ran_for_accuracy,log_reg_accuracy,bernouli_accuracy,linear_svc_accuracy, multi_nb_accuracy])\n",
    "\n",
    "\n",
    "pretty_table_best=PrettyTable(['Model', 'Accuracy','Precision','Recall','f1_score'])\n",
    "\n",
    "if ran_for_accuracy==maximum_accuracy:\n",
    "    pretty_table_best.add_row(['Random Forest Classifier',ran_for_accuracy,ran_for_pricision,ran_for_recall,ran_for_f1])\n",
    "    \n",
    "elif log_reg_accuracy==maximum_accuracy:\n",
    "    pretty_table_best.add_row(['GradientBoostingClassifier',log_reg_accuracy,log_reg_pre,log_reg_recal,log_reg_f1])\n",
    "    \n",
    "elif bernouli_accuracy==maximum_accuracy:\n",
    "    pretty_table_best.add_row(['BernoulliNB',bernouli_accuracy,bernouli_pre,bernouli_recal,bernouli_f1])\n",
    "    \n",
    "elif linear_svc_accuracy==maximum_accuracy:\n",
    "    pretty_table_best.add_row(['LinearSVC',linear_svc_accuracy,linear_svc_pre,linear_svc_recal,linear_svc_f1])\n",
    "    \n",
    "elif multi_nb_accuracy==maximum_accuracy:\n",
    "    pretty_table_best.add_row(['MultinomialNB',multi_nb_accuracy,multi_nb_pre,multi_nb_recal,multi_nb_f1])\n",
    "    \n",
    "print(\"\\n\\nBest Model:\")\n",
    "print(\"===========\\n\")\n",
    "print(pretty_table_best)\n"
   ]
  }
 ],
 "metadata": {
  "kernelspec": {
   "display_name": "Python 3 (ipykernel)",
   "language": "python",
   "name": "python3"
  },
  "language_info": {
   "codemirror_mode": {
    "name": "ipython",
    "version": 3
   },
   "file_extension": ".py",
   "mimetype": "text/x-python",
   "name": "python",
   "nbconvert_exporter": "python",
   "pygments_lexer": "ipython3",
   "version": "3.10.9"
  }
 },
 "nbformat": 4,
 "nbformat_minor": 2
}
